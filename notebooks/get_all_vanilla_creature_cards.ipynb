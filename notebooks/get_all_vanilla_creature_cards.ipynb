{
 "cells": [
  {
   "cell_type": "code",
   "execution_count": 1,
   "metadata": {},
   "outputs": [],
   "source": [
    "import json\n",
    "import pandas as pd"
   ]
  },
  {
   "cell_type": "code",
   "execution_count": 2,
   "metadata": {},
   "outputs": [],
   "source": [
    "pd.set_option(\"display.max_columns\", None)"
   ]
  },
  {
   "cell_type": "code",
   "execution_count": 3,
   "metadata": {},
   "outputs": [],
   "source": [
    "with open(\"../data/scryfall/default-cards-20230502210911.json\", \"r\") as f:\n",
    "    scryfall_default_cards_json_list = json.load(f)"
   ]
  },
  {
   "cell_type": "code",
   "execution_count": 4,
   "metadata": {},
   "outputs": [
    {
     "data": {
      "text/plain": [
       "82769"
      ]
     },
     "execution_count": 4,
     "metadata": {},
     "output_type": "execute_result"
    }
   ],
   "source": [
    "len(scryfall_default_cards_json_list)"
   ]
  },
  {
   "cell_type": "code",
   "execution_count": 5,
   "metadata": {},
   "outputs": [],
   "source": [
    "df = pd.DataFrame(scryfall_default_cards_json_list)"
   ]
  },
  {
   "cell_type": "code",
   "execution_count": 6,
   "metadata": {},
   "outputs": [],
   "source": [
    "columns_to_select = [\n",
    "    \"id\",\n",
    "    \"name\",\n",
    "    \"set\",\n",
    "    \"set_name\",\n",
    "    \"rarity\",\n",
    "    \"type_line\",\n",
    "    \"colors\",\n",
    "    \"color_identity\",\n",
    "    \"mana_cost\",\n",
    "    \"power\",\n",
    "    \"toughness\",\n",
    "    \"oracle_text\",\n",
    "    \"keywords\",\n",
    "]"
   ]
  },
  {
   "cell_type": "code",
   "execution_count": 7,
   "metadata": {},
   "outputs": [],
   "source": [
    "df = df[columns_to_select]"
   ]
  },
  {
   "cell_type": "code",
   "execution_count": 8,
   "metadata": {},
   "outputs": [],
   "source": [
    "df = df.dropna(subset=[\"type_line\"]).reset_index(drop=True)"
   ]
  },
  {
   "cell_type": "code",
   "execution_count": 9,
   "metadata": {},
   "outputs": [],
   "source": [
    "df = (\n",
    "    df[\n",
    "        (df[\"oracle_text\"] == \"\")\n",
    "        & df[\"type_line\"].str.contains(\"Creature\")\n",
    "        & ~df[\"type_line\"].str.contains(\"Token\")\n",
    "    ]\n",
    "    .reset_index(drop=True)\n",
    ")"
   ]
  },
  {
   "cell_type": "code",
   "execution_count": 10,
   "metadata": {},
   "outputs": [
    {
     "name": "stdout",
     "output_type": "stream",
     "text": [
      "<class 'pandas.core.frame.DataFrame'>\n",
      "RangeIndex: 1050 entries, 0 to 1049\n",
      "Data columns (total 13 columns):\n",
      " #   Column          Non-Null Count  Dtype \n",
      "---  ------          --------------  ----- \n",
      " 0   id              1050 non-null   object\n",
      " 1   name            1050 non-null   object\n",
      " 2   set             1050 non-null   object\n",
      " 3   set_name        1050 non-null   object\n",
      " 4   rarity          1050 non-null   object\n",
      " 5   type_line       1050 non-null   object\n",
      " 6   colors          1050 non-null   object\n",
      " 7   color_identity  1050 non-null   object\n",
      " 8   mana_cost       1050 non-null   object\n",
      " 9   power           1050 non-null   object\n",
      " 10  toughness       1050 non-null   object\n",
      " 11  oracle_text     1050 non-null   object\n",
      " 12  keywords        1050 non-null   object\n",
      "dtypes: object(13)\n",
      "memory usage: 106.8+ KB\n"
     ]
    }
   ],
   "source": [
    "df.info()"
   ]
  },
  {
   "cell_type": "code",
   "execution_count": 11,
   "metadata": {},
   "outputs": [
    {
     "data": {
      "text/html": [
       "<div>\n",
       "<style scoped>\n",
       "    .dataframe tbody tr th:only-of-type {\n",
       "        vertical-align: middle;\n",
       "    }\n",
       "\n",
       "    .dataframe tbody tr th {\n",
       "        vertical-align: top;\n",
       "    }\n",
       "\n",
       "    .dataframe thead th {\n",
       "        text-align: right;\n",
       "    }\n",
       "</style>\n",
       "<table border=\"1\" class=\"dataframe\">\n",
       "  <thead>\n",
       "    <tr style=\"text-align: right;\">\n",
       "      <th></th>\n",
       "      <th>id</th>\n",
       "      <th>name</th>\n",
       "      <th>set</th>\n",
       "      <th>set_name</th>\n",
       "      <th>rarity</th>\n",
       "      <th>type_line</th>\n",
       "      <th>colors</th>\n",
       "      <th>color_identity</th>\n",
       "      <th>mana_cost</th>\n",
       "      <th>power</th>\n",
       "      <th>toughness</th>\n",
       "      <th>oracle_text</th>\n",
       "      <th>keywords</th>\n",
       "    </tr>\n",
       "  </thead>\n",
       "  <tbody>\n",
       "    <tr>\n",
       "      <th>0</th>\n",
       "      <td>00223901-d462-41b0-9749-b093058f682f</td>\n",
       "      <td>Coral Eel</td>\n",
       "      <td>9ed</td>\n",
       "      <td>Ninth Edition</td>\n",
       "      <td>common</td>\n",
       "      <td>Creature — Fish</td>\n",
       "      <td>[U]</td>\n",
       "      <td>[U]</td>\n",
       "      <td>{1}{U}</td>\n",
       "      <td>2</td>\n",
       "      <td>1</td>\n",
       "      <td></td>\n",
       "      <td>[]</td>\n",
       "    </tr>\n",
       "    <tr>\n",
       "      <th>1</th>\n",
       "      <td>004af467-815a-47c0-a974-1ae49ca3a1a8</td>\n",
       "      <td>Jasmine Boreal</td>\n",
       "      <td>tsb</td>\n",
       "      <td>Time Spiral Timeshifted</td>\n",
       "      <td>special</td>\n",
       "      <td>Legendary Creature — Human</td>\n",
       "      <td>[G, W]</td>\n",
       "      <td>[G, W]</td>\n",
       "      <td>{3}{G}{W}</td>\n",
       "      <td>4</td>\n",
       "      <td>5</td>\n",
       "      <td></td>\n",
       "      <td>[]</td>\n",
       "    </tr>\n",
       "    <tr>\n",
       "      <th>2</th>\n",
       "      <td>004d5c22-415c-4aa8-87f6-a4cf609d1eae</td>\n",
       "      <td>Fire Elemental</td>\n",
       "      <td>4bb</td>\n",
       "      <td>Fourth Edition Foreign Black Border</td>\n",
       "      <td>uncommon</td>\n",
       "      <td>Creature — Elemental</td>\n",
       "      <td>[R]</td>\n",
       "      <td>[R]</td>\n",
       "      <td>{3}{R}{R}</td>\n",
       "      <td>5</td>\n",
       "      <td>4</td>\n",
       "      <td></td>\n",
       "      <td>[]</td>\n",
       "    </tr>\n",
       "    <tr>\n",
       "      <th>3</th>\n",
       "      <td>0053bd00-90fd-48c2-8f79-952d5d1e3e74</td>\n",
       "      <td>Spined Wurm</td>\n",
       "      <td>por</td>\n",
       "      <td>Portal</td>\n",
       "      <td>common</td>\n",
       "      <td>Creature — Wurm</td>\n",
       "      <td>[G]</td>\n",
       "      <td>[G]</td>\n",
       "      <td>{4}{G}</td>\n",
       "      <td>5</td>\n",
       "      <td>4</td>\n",
       "      <td></td>\n",
       "      <td>[]</td>\n",
       "    </tr>\n",
       "    <tr>\n",
       "      <th>4</th>\n",
       "      <td>00c050c3-4f50-4bb6-8477-6737887ca10d</td>\n",
       "      <td>Loxodon Convert</td>\n",
       "      <td>nph</td>\n",
       "      <td>New Phyrexia</td>\n",
       "      <td>common</td>\n",
       "      <td>Creature — Phyrexian Elephant Soldier</td>\n",
       "      <td>[W]</td>\n",
       "      <td>[W]</td>\n",
       "      <td>{3}{W}</td>\n",
       "      <td>4</td>\n",
       "      <td>2</td>\n",
       "      <td></td>\n",
       "      <td>[]</td>\n",
       "    </tr>\n",
       "  </tbody>\n",
       "</table>\n",
       "</div>"
      ],
      "text/plain": [
       "                                     id             name  set   \n",
       "0  00223901-d462-41b0-9749-b093058f682f        Coral Eel  9ed  \\\n",
       "1  004af467-815a-47c0-a974-1ae49ca3a1a8   Jasmine Boreal  tsb   \n",
       "2  004d5c22-415c-4aa8-87f6-a4cf609d1eae   Fire Elemental  4bb   \n",
       "3  0053bd00-90fd-48c2-8f79-952d5d1e3e74      Spined Wurm  por   \n",
       "4  00c050c3-4f50-4bb6-8477-6737887ca10d  Loxodon Convert  nph   \n",
       "\n",
       "                              set_name    rarity   \n",
       "0                        Ninth Edition    common  \\\n",
       "1              Time Spiral Timeshifted   special   \n",
       "2  Fourth Edition Foreign Black Border  uncommon   \n",
       "3                               Portal    common   \n",
       "4                         New Phyrexia    common   \n",
       "\n",
       "                               type_line  colors color_identity  mana_cost   \n",
       "0                        Creature — Fish     [U]            [U]     {1}{U}  \\\n",
       "1             Legendary Creature — Human  [G, W]         [G, W]  {3}{G}{W}   \n",
       "2                   Creature — Elemental     [R]            [R]  {3}{R}{R}   \n",
       "3                        Creature — Wurm     [G]            [G]     {4}{G}   \n",
       "4  Creature — Phyrexian Elephant Soldier     [W]            [W]     {3}{W}   \n",
       "\n",
       "  power toughness oracle_text keywords  \n",
       "0     2         1                   []  \n",
       "1     4         5                   []  \n",
       "2     5         4                   []  \n",
       "3     5         4                   []  \n",
       "4     4         2                   []  "
      ]
     },
     "execution_count": 11,
     "metadata": {},
     "output_type": "execute_result"
    }
   ],
   "source": [
    "df.head()"
   ]
  },
  {
   "cell_type": "code",
   "execution_count": 12,
   "metadata": {},
   "outputs": [],
   "source": [
    "df.to_csv(\"../data/vanilla_creature_cards.csv\", index=False)"
   ]
  },
  {
   "cell_type": "code",
   "execution_count": null,
   "metadata": {},
   "outputs": [],
   "source": []
  }
 ],
 "metadata": {
  "kernelspec": {
   "display_name": "venv",
   "language": "python",
   "name": "python3"
  },
  "language_info": {
   "codemirror_mode": {
    "name": "ipython",
    "version": 3
   },
   "file_extension": ".py",
   "mimetype": "text/x-python",
   "name": "python",
   "nbconvert_exporter": "python",
   "pygments_lexer": "ipython3",
   "version": "3.10.6"
  },
  "orig_nbformat": 4
 },
 "nbformat": 4,
 "nbformat_minor": 2
}
