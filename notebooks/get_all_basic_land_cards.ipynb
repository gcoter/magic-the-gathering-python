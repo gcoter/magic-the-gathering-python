{
 "cells": [
  {
   "cell_type": "code",
   "execution_count": 1,
   "metadata": {},
   "outputs": [],
   "source": [
    "import json\n",
    "import pandas as pd"
   ]
  },
  {
   "cell_type": "code",
   "execution_count": 2,
   "metadata": {},
   "outputs": [],
   "source": [
    "pd.set_option(\"display.max_columns\", None)"
   ]
  },
  {
   "cell_type": "code",
   "execution_count": 3,
   "metadata": {},
   "outputs": [],
   "source": [
    "with open(\"../data/scryfall/default-cards-20230502210911.json\", \"r\") as f:\n",
    "    scryfall_default_cards_json_list = json.load(f)"
   ]
  },
  {
   "cell_type": "code",
   "execution_count": 4,
   "metadata": {},
   "outputs": [
    {
     "data": {
      "text/plain": [
       "82769"
      ]
     },
     "execution_count": 4,
     "metadata": {},
     "output_type": "execute_result"
    }
   ],
   "source": [
    "len(scryfall_default_cards_json_list)"
   ]
  },
  {
   "cell_type": "code",
   "execution_count": 5,
   "metadata": {},
   "outputs": [],
   "source": [
    "df = pd.DataFrame(scryfall_default_cards_json_list)"
   ]
  },
  {
   "cell_type": "code",
   "execution_count": 6,
   "metadata": {},
   "outputs": [],
   "source": [
    "columns_to_select = [\n",
    "    \"id\",\n",
    "    \"name\",\n",
    "    \"set\",\n",
    "    \"set_name\",\n",
    "    \"rarity\",\n",
    "    \"type_line\",\n",
    "    \"colors\",\n",
    "    \"color_identity\",\n",
    "    \"mana_cost\",\n",
    "    \"power\",\n",
    "    \"toughness\",\n",
    "    \"oracle_text\",\n",
    "    \"keywords\",\n",
    "]"
   ]
  },
  {
   "cell_type": "code",
   "execution_count": 7,
   "metadata": {},
   "outputs": [],
   "source": [
    "df = df[columns_to_select]"
   ]
  },
  {
   "cell_type": "code",
   "execution_count": 9,
   "metadata": {},
   "outputs": [
    {
     "data": {
      "text/plain": [
       "0                 Creature — Sliver\n",
       "1            Creature — Kor Soldier\n",
       "2           Token Creature — Spirit\n",
       "3           Creature — Siren Pirate\n",
       "4                Enchantment — Aura\n",
       "                    ...            \n",
       "82764                       Instant\n",
       "82765                Plane — Luvion\n",
       "82766              Creature — Troll\n",
       "82767    Creature — Vampire Soldier\n",
       "82768                       Sorcery\n",
       "Name: type_line, Length: 82769, dtype: object"
      ]
     },
     "execution_count": 9,
     "metadata": {},
     "output_type": "execute_result"
    }
   ],
   "source": [
    "df[\"type_line\"]"
   ]
  },
  {
   "cell_type": "code",
   "execution_count": 14,
   "metadata": {},
   "outputs": [],
   "source": [
    "df = df.dropna(subset=[\"type_line\"]).reset_index(drop=True)"
   ]
  },
  {
   "cell_type": "code",
   "execution_count": 15,
   "metadata": {},
   "outputs": [],
   "source": [
    "df = df[df[\"type_line\"].str.contains(\"Basic Land\")].reset_index(drop=True)"
   ]
  },
  {
   "cell_type": "code",
   "execution_count": 17,
   "metadata": {},
   "outputs": [
    {
     "name": "stdout",
     "output_type": "stream",
     "text": [
      "<class 'pandas.core.frame.DataFrame'>\n",
      "RangeIndex: 3901 entries, 0 to 3900\n",
      "Data columns (total 13 columns):\n",
      " #   Column          Non-Null Count  Dtype \n",
      "---  ------          --------------  ----- \n",
      " 0   id              3901 non-null   object\n",
      " 1   name            3901 non-null   object\n",
      " 2   set             3901 non-null   object\n",
      " 3   set_name        3901 non-null   object\n",
      " 4   rarity          3901 non-null   object\n",
      " 5   type_line       3901 non-null   object\n",
      " 6   colors          3901 non-null   object\n",
      " 7   color_identity  3901 non-null   object\n",
      " 8   mana_cost       3901 non-null   object\n",
      " 9   power           0 non-null      object\n",
      " 10  toughness       0 non-null      object\n",
      " 11  oracle_text     3901 non-null   object\n",
      " 12  keywords        3901 non-null   object\n",
      "dtypes: object(13)\n",
      "memory usage: 396.3+ KB\n"
     ]
    }
   ],
   "source": [
    "df.info()"
   ]
  },
  {
   "cell_type": "code",
   "execution_count": 18,
   "metadata": {},
   "outputs": [
    {
     "data": {
      "text/html": [
       "<div>\n",
       "<style scoped>\n",
       "    .dataframe tbody tr th:only-of-type {\n",
       "        vertical-align: middle;\n",
       "    }\n",
       "\n",
       "    .dataframe tbody tr th {\n",
       "        vertical-align: top;\n",
       "    }\n",
       "\n",
       "    .dataframe thead th {\n",
       "        text-align: right;\n",
       "    }\n",
       "</style>\n",
       "<table border=\"1\" class=\"dataframe\">\n",
       "  <thead>\n",
       "    <tr style=\"text-align: right;\">\n",
       "      <th></th>\n",
       "      <th>id</th>\n",
       "      <th>name</th>\n",
       "      <th>set</th>\n",
       "      <th>set_name</th>\n",
       "      <th>rarity</th>\n",
       "      <th>type_line</th>\n",
       "      <th>colors</th>\n",
       "      <th>color_identity</th>\n",
       "      <th>mana_cost</th>\n",
       "      <th>power</th>\n",
       "      <th>toughness</th>\n",
       "      <th>oracle_text</th>\n",
       "      <th>keywords</th>\n",
       "    </tr>\n",
       "  </thead>\n",
       "  <tbody>\n",
       "    <tr>\n",
       "      <th>0</th>\n",
       "      <td>00030770-5e99-4943-819d-8d807c24cc14</td>\n",
       "      <td>Swamp</td>\n",
       "      <td>jmp</td>\n",
       "      <td>Jumpstart</td>\n",
       "      <td>common</td>\n",
       "      <td>Basic Land — Swamp</td>\n",
       "      <td>[]</td>\n",
       "      <td>[B]</td>\n",
       "      <td></td>\n",
       "      <td>NaN</td>\n",
       "      <td>NaN</td>\n",
       "      <td>({T}: Add {B}.)</td>\n",
       "      <td>[]</td>\n",
       "    </tr>\n",
       "    <tr>\n",
       "      <th>1</th>\n",
       "      <td>000366c8-7a43-49d7-a103-ac5bd7efd9aa</td>\n",
       "      <td>Swamp</td>\n",
       "      <td>tmp</td>\n",
       "      <td>Tempest</td>\n",
       "      <td>common</td>\n",
       "      <td>Basic Land — Swamp</td>\n",
       "      <td>[]</td>\n",
       "      <td>[B]</td>\n",
       "      <td></td>\n",
       "      <td>NaN</td>\n",
       "      <td>NaN</td>\n",
       "      <td>({T}: Add {B}.)</td>\n",
       "      <td>[]</td>\n",
       "    </tr>\n",
       "    <tr>\n",
       "      <th>2</th>\n",
       "      <td>000f1f50-08e5-4d83-8159-98f06a0e2279</td>\n",
       "      <td>Island</td>\n",
       "      <td>eld</td>\n",
       "      <td>Throne of Eldraine</td>\n",
       "      <td>common</td>\n",
       "      <td>Basic Land — Island</td>\n",
       "      <td>[]</td>\n",
       "      <td>[U]</td>\n",
       "      <td></td>\n",
       "      <td>NaN</td>\n",
       "      <td>NaN</td>\n",
       "      <td>({T}: Add {U}.)</td>\n",
       "      <td>[]</td>\n",
       "    </tr>\n",
       "    <tr>\n",
       "      <th>3</th>\n",
       "      <td>001eb913-2afe-4d7d-89a1-7c35de92d702</td>\n",
       "      <td>Island</td>\n",
       "      <td>fbb</td>\n",
       "      <td>Foreign Black Border</td>\n",
       "      <td>common</td>\n",
       "      <td>Basic Land — Island</td>\n",
       "      <td>[]</td>\n",
       "      <td>[U]</td>\n",
       "      <td></td>\n",
       "      <td>NaN</td>\n",
       "      <td>NaN</td>\n",
       "      <td>({T}: Add {U}.)</td>\n",
       "      <td>[]</td>\n",
       "    </tr>\n",
       "    <tr>\n",
       "      <th>4</th>\n",
       "      <td>00293ce4-3475-4064-8510-9e8c02faf3bf</td>\n",
       "      <td>Plains</td>\n",
       "      <td>cma</td>\n",
       "      <td>Commander Anthology</td>\n",
       "      <td>common</td>\n",
       "      <td>Basic Land — Plains</td>\n",
       "      <td>[]</td>\n",
       "      <td>[W]</td>\n",
       "      <td></td>\n",
       "      <td>NaN</td>\n",
       "      <td>NaN</td>\n",
       "      <td>({T}: Add {W}.)</td>\n",
       "      <td>[]</td>\n",
       "    </tr>\n",
       "  </tbody>\n",
       "</table>\n",
       "</div>"
      ],
      "text/plain": [
       "                                     id    name  set              set_name   \n",
       "0  00030770-5e99-4943-819d-8d807c24cc14   Swamp  jmp             Jumpstart  \\\n",
       "1  000366c8-7a43-49d7-a103-ac5bd7efd9aa   Swamp  tmp               Tempest   \n",
       "2  000f1f50-08e5-4d83-8159-98f06a0e2279  Island  eld    Throne of Eldraine   \n",
       "3  001eb913-2afe-4d7d-89a1-7c35de92d702  Island  fbb  Foreign Black Border   \n",
       "4  00293ce4-3475-4064-8510-9e8c02faf3bf  Plains  cma   Commander Anthology   \n",
       "\n",
       "   rarity            type_line colors color_identity mana_cost power   \n",
       "0  common   Basic Land — Swamp     []            [B]             NaN  \\\n",
       "1  common   Basic Land — Swamp     []            [B]             NaN   \n",
       "2  common  Basic Land — Island     []            [U]             NaN   \n",
       "3  common  Basic Land — Island     []            [U]             NaN   \n",
       "4  common  Basic Land — Plains     []            [W]             NaN   \n",
       "\n",
       "  toughness      oracle_text keywords  \n",
       "0       NaN  ({T}: Add {B}.)       []  \n",
       "1       NaN  ({T}: Add {B}.)       []  \n",
       "2       NaN  ({T}: Add {U}.)       []  \n",
       "3       NaN  ({T}: Add {U}.)       []  \n",
       "4       NaN  ({T}: Add {W}.)       []  "
      ]
     },
     "execution_count": 18,
     "metadata": {},
     "output_type": "execute_result"
    }
   ],
   "source": [
    "df.head()"
   ]
  },
  {
   "cell_type": "code",
   "execution_count": 19,
   "metadata": {},
   "outputs": [],
   "source": [
    "df.to_csv(\"../data/basic_land_cards.csv\", index=False)"
   ]
  },
  {
   "cell_type": "code",
   "execution_count": null,
   "metadata": {},
   "outputs": [],
   "source": []
  }
 ],
 "metadata": {
  "kernelspec": {
   "display_name": "venv",
   "language": "python",
   "name": "python3"
  },
  "language_info": {
   "codemirror_mode": {
    "name": "ipython",
    "version": 3
   },
   "file_extension": ".py",
   "mimetype": "text/x-python",
   "name": "python",
   "nbconvert_exporter": "python",
   "pygments_lexer": "ipython3",
   "version": "3.10.6"
  },
  "orig_nbformat": 4
 },
 "nbformat": 4,
 "nbformat_minor": 2
}
