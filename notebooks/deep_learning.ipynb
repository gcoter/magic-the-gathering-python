{
 "cells": [
  {
   "cell_type": "code",
   "execution_count": 1,
   "metadata": {},
   "outputs": [],
   "source": [
    "import sys\n",
    "\n",
    "sys.path.append(\"..\")\n",
    "\n",
    "import torch\n",
    "import pickle\n",
    "from magic_the_gathering.players.deep_learning_based.models.v1 import DeepLearningScorerV1"
   ]
  },
  {
   "cell_type": "code",
   "execution_count": 2,
   "metadata": {},
   "outputs": [],
   "source": [
    "pickle_path = \"../logs/game_382bda50-8299-40fe-b5e8-bfb4e49014b1.pickle\""
   ]
  },
  {
   "cell_type": "code",
   "execution_count": 3,
   "metadata": {},
   "outputs": [],
   "source": [
    "with open(pickle_path, \"rb\") as f:\n",
    "    pickle_dict = pickle.load(f)"
   ]
  },
  {
   "cell_type": "code",
   "execution_count": 4,
   "metadata": {},
   "outputs": [
    {
     "data": {
      "text/plain": [
       "1230"
      ]
     },
     "execution_count": 4,
     "metadata": {},
     "output_type": "execute_result"
    }
   ],
   "source": [
    "len(pickle_dict[\"dataset\"])"
   ]
  },
  {
   "cell_type": "code",
   "execution_count": 5,
   "metadata": {},
   "outputs": [],
   "source": [
    "indices = [250, 251, 252]"
   ]
  },
  {
   "cell_type": "code",
   "execution_count": 6,
   "metadata": {},
   "outputs": [],
   "source": [
    "game_states = [pickle_dict[\"dataset\"][index][\"game_state\"] for index in indices]\n",
    "actions = [pickle_dict[\"dataset\"][index][\"action\"] for index in indices]"
   ]
  },
  {
   "cell_type": "code",
   "execution_count": 7,
   "metadata": {},
   "outputs": [],
   "source": [
    "game_state_vectors_numpy = [game_state.to_vectors() for game_state in game_states]"
   ]
  },
  {
   "cell_type": "code",
   "execution_count": 8,
   "metadata": {},
   "outputs": [],
   "source": [
    "n_players = game_state_vectors_numpy[0][\"players\"].shape[0]\n",
    "player_dim = game_state_vectors_numpy[0][\"players\"].shape[1]\n",
    "card_dim = game_state_vectors_numpy[0][\"zones\"].shape[1]"
   ]
  },
  {
   "cell_type": "code",
   "execution_count": 32,
   "metadata": {},
   "outputs": [
    {
     "name": "stdout",
     "output_type": "stream",
     "text": [
      "2 8 34\n"
     ]
    }
   ],
   "source": [
    "print(n_players, player_dim, card_dim)"
   ]
  },
  {
   "cell_type": "code",
   "execution_count": 9,
   "metadata": {},
   "outputs": [],
   "source": [
    "action_vectors_numpy = [action.to_vectors(game_state=game_state) for action, game_state in zip(actions, game_states)]"
   ]
  },
  {
   "cell_type": "code",
   "execution_count": 10,
   "metadata": {},
   "outputs": [],
   "source": [
    "action_general_dim = action_vectors_numpy[0][\"general\"].shape[0]"
   ]
  },
  {
   "cell_type": "code",
   "execution_count": 31,
   "metadata": {},
   "outputs": [
    {
     "name": "stdout",
     "output_type": "stream",
     "text": [
      "16\n"
     ]
    }
   ],
   "source": [
    "print(action_general_dim)"
   ]
  },
  {
   "cell_type": "code",
   "execution_count": 11,
   "metadata": {},
   "outputs": [
    {
     "name": "stderr",
     "output_type": "stream",
     "text": [
      "/tmp/ipykernel_9068/1433866238.py:2: UserWarning: Creating a tensor from a list of numpy.ndarrays is extremely slow. Please consider converting the list to a single numpy.ndarray with numpy.array() before converting to a tensor. (Triggered internally at ../torch/csrc/utils/tensor_new.cpp:245.)\n",
      "  \"global\": torch.tensor([game_state_vector[\"global\"] for game_state_vector in game_state_vectors_numpy]).float(),\n"
     ]
    }
   ],
   "source": [
    "batch_game_state_vectors_torch = {\n",
    "    \"global\": torch.tensor([game_state_vector[\"global\"] for game_state_vector in game_state_vectors_numpy]).float(),\n",
    "    \"players\": torch.tensor([game_state_vector[\"players\"] for game_state_vector in game_state_vectors_numpy]).float(),\n",
    "    \"zones\": torch.tensor([game_state_vector[\"zones\"] for game_state_vector in game_state_vectors_numpy]).float(),\n",
    "}"
   ]
  },
  {
   "cell_type": "code",
   "execution_count": 12,
   "metadata": {},
   "outputs": [
    {
     "data": {
      "text/plain": [
       "(torch.Size([3, 2]), torch.Size([3, 2, 8]), torch.Size([3, 120, 34]))"
      ]
     },
     "execution_count": 12,
     "metadata": {},
     "output_type": "execute_result"
    }
   ],
   "source": [
    "batch_game_state_vectors_torch[\"global\"].shape, batch_game_state_vectors_torch[\"players\"].shape, batch_game_state_vectors_torch[\"zones\"].shape"
   ]
  },
  {
   "cell_type": "code",
   "execution_count": 13,
   "metadata": {},
   "outputs": [],
   "source": [
    "batch_action_vectors_torch = {\n",
    "    \"general\": torch.tensor([action_vector[\"general\"] for action_vector in action_vectors_numpy]).float(),\n",
    "    \"source_card_uuids\": torch.tensor([action_vector[\"source_card_uuids\"] for action_vector in action_vectors_numpy]).bool(),\n",
    "    \"target_card_uuids\": torch.tensor([action_vector[\"target_card_uuids\"] for action_vector in action_vectors_numpy]).bool(),\n",
    "}"
   ]
  },
  {
   "cell_type": "code",
   "execution_count": 14,
   "metadata": {},
   "outputs": [
    {
     "data": {
      "text/plain": [
       "(torch.Size([3, 16]), torch.Size([3, 120]), torch.Size([3, 120]))"
      ]
     },
     "execution_count": 14,
     "metadata": {},
     "output_type": "execute_result"
    }
   ],
   "source": [
    "batch_action_vectors_torch[\"general\"].shape, batch_action_vectors_torch[\"source_card_uuids\"].shape, batch_action_vectors_torch[\"target_card_uuids\"].shape"
   ]
  },
  {
   "cell_type": "code",
   "execution_count": 15,
   "metadata": {},
   "outputs": [],
   "source": [
    "max_n_cards = 128\n",
    "max_action_sequence_length = 16\n",
    "final_common_dim = 32"
   ]
  },
  {
   "cell_type": "code",
   "execution_count": 16,
   "metadata": {},
   "outputs": [],
   "source": [
    "scorer = DeepLearningScorerV1(\n",
    "    n_players=n_players,\n",
    "    player_dim=player_dim,\n",
    "    card_dim=card_dim,\n",
    "    action_general_dim=action_general_dim,\n",
    "    max_n_cards=max_n_cards,\n",
    "    max_action_sequence_length=max_action_sequence_length,\n",
    "    final_common_dim=final_common_dim,\n",
    ")"
   ]
  },
  {
   "cell_type": "code",
   "execution_count": 19,
   "metadata": {},
   "outputs": [
    {
     "data": {
      "text/plain": [
       "DeepLearningScorerV1(\n",
       "  (loss): BCELoss()\n",
       "  (players_mlp): PlayersMLP(\n",
       "    (fc1): Linear(in_features=16, out_features=32, bias=True)\n",
       "    (relu): ReLU()\n",
       "  )\n",
       "  (zones_transformer_encoder): ZonesTransformerEncoder(\n",
       "    (initial_fc): Linear(in_features=34, out_features=32, bias=True)\n",
       "    (relu): ReLU()\n",
       "    (transformer_encoder): TransformerEncoder(\n",
       "      (layers): ModuleList(\n",
       "        (0-1): 2 x TransformerEncoderLayer(\n",
       "          (self_attn): MultiheadAttention(\n",
       "            (out_proj): NonDynamicallyQuantizableLinear(in_features=32, out_features=32, bias=True)\n",
       "          )\n",
       "          (linear1): Linear(in_features=32, out_features=32, bias=True)\n",
       "          (dropout): Dropout(p=0.1, inplace=False)\n",
       "          (linear2): Linear(in_features=32, out_features=32, bias=True)\n",
       "          (norm1): LayerNorm((32,), eps=1e-05, elementwise_affine=True)\n",
       "          (norm2): LayerNorm((32,), eps=1e-05, elementwise_affine=True)\n",
       "          (dropout1): Dropout(p=0.1, inplace=False)\n",
       "          (dropout2): Dropout(p=0.1, inplace=False)\n",
       "        )\n",
       "      )\n",
       "    )\n",
       "  )\n",
       "  (action_general_mlp): ActionGeneralMLP(\n",
       "    (fc1): Linear(in_features=16, out_features=29, bias=True)\n",
       "    (relu): ReLU()\n",
       "  )\n",
       "  (action_card_mlp): ActionCardMLP(\n",
       "    (fc1): Linear(in_features=34, out_features=29, bias=True)\n",
       "    (relu): ReLU()\n",
       "  )\n",
       "  (action_transformer_encoder): ActionTransformerEncoder(\n",
       "    (transformer_encoder): TransformerEncoder(\n",
       "      (layers): ModuleList(\n",
       "        (0-1): 2 x TransformerEncoderLayer(\n",
       "          (self_attn): MultiheadAttention(\n",
       "            (out_proj): NonDynamicallyQuantizableLinear(in_features=32, out_features=32, bias=True)\n",
       "          )\n",
       "          (linear1): Linear(in_features=32, out_features=32, bias=True)\n",
       "          (dropout): Dropout(p=0.1, inplace=False)\n",
       "          (linear2): Linear(in_features=32, out_features=32, bias=True)\n",
       "          (norm1): LayerNorm((32,), eps=1e-05, elementwise_affine=True)\n",
       "          (norm2): LayerNorm((32,), eps=1e-05, elementwise_affine=True)\n",
       "          (dropout1): Dropout(p=0.1, inplace=False)\n",
       "          (dropout2): Dropout(p=0.1, inplace=False)\n",
       "        )\n",
       "      )\n",
       "    )\n",
       "  )\n",
       "  (final_classification_mlp): FinalClassificationMLP(\n",
       "    (fc1): Linear(in_features=96, out_features=1, bias=True)\n",
       "    (sigmoid): Sigmoid()\n",
       "  )\n",
       ")"
      ]
     },
     "execution_count": 19,
     "metadata": {},
     "output_type": "execute_result"
    }
   ],
   "source": [
    "scorer.eval()"
   ]
  },
  {
   "cell_type": "code",
   "execution_count": 20,
   "metadata": {},
   "outputs": [
    {
     "data": {
      "text/plain": [
       "29128"
      ]
     },
     "execution_count": 20,
     "metadata": {},
     "output_type": "execute_result"
    }
   ],
   "source": [
    "scorer.get_n_parameters()"
   ]
  },
  {
   "cell_type": "code",
   "execution_count": 28,
   "metadata": {},
   "outputs": [],
   "source": [
    "score = scorer.forward(\n",
    "    batch_game_state_vectors=batch_game_state_vectors_torch,\n",
    "    batch_action_vectors=batch_action_vectors_torch\n",
    ").cpu().detach().numpy()[0][0]"
   ]
  },
  {
   "cell_type": "code",
   "execution_count": null,
   "metadata": {},
   "outputs": [],
   "source": []
  }
 ],
 "metadata": {
  "kernelspec": {
   "display_name": "venv",
   "language": "python",
   "name": "python3"
  },
  "language_info": {
   "codemirror_mode": {
    "name": "ipython",
    "version": 3
   },
   "file_extension": ".py",
   "mimetype": "text/x-python",
   "name": "python",
   "nbconvert_exporter": "python",
   "pygments_lexer": "ipython3",
   "version": "3.10.6"
  },
  "orig_nbformat": 4
 },
 "nbformat": 4,
 "nbformat_minor": 2
}
