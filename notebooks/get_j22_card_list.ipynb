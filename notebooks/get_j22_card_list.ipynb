{
 "cells": [
  {
   "cell_type": "code",
   "execution_count": 1,
   "metadata": {},
   "outputs": [],
   "source": [
    "import re\n",
    "import requests\n",
    "from bs4 import BeautifulSoup\n",
    "\n",
    "import pandas as pd"
   ]
  },
  {
   "cell_type": "code",
   "execution_count": 2,
   "metadata": {},
   "outputs": [],
   "source": [
    "url = \"https://magic.wizards.com/en/news/feature/jumpstart-2022-booster-themes-and-card-lists\"\n",
    "response = requests.get(url)"
   ]
  },
  {
   "cell_type": "code",
   "execution_count": 3,
   "metadata": {},
   "outputs": [],
   "source": [
    "soup = BeautifulSoup(response.content, \"html.parser\")"
   ]
  },
  {
   "cell_type": "code",
   "execution_count": 5,
   "metadata": {},
   "outputs": [],
   "source": [
    "j22_card_list_df = pd.DataFrame()\n",
    "\n",
    "for deck in soup.find_all(\"deck-list\"):\n",
    "    deck_name = deck[\"deck-title\"]\n",
    "    deck_format = deck[\"format\"]\n",
    "    deck_card_list_string = deck.find(\"main-deck\").text\n",
    "    deck_card_list = deck_card_list_string.strip().split(\"\\n\")\n",
    "    for row in deck_card_list:\n",
    "        regex_match = re.match(\"^(\\d+) (.+)$\", row)\n",
    "        n_occurences = regex_match.group(1)\n",
    "        card_name = regex_match.group(2)\n",
    "        j22_card_list_df = pd.concat([\n",
    "            j22_card_list_df,\n",
    "            pd.DataFrame([{\n",
    "                \"deck_name\": deck_name,\n",
    "                \"deck_format\": deck_format,\n",
    "                \"card_name\": card_name,\n",
    "                \"n_occurences\": n_occurences\n",
    "            }])\n",
    "        ])\n",
    "\n",
    "j22_card_list_df = j22_card_list_df.reset_index(drop=True)"
   ]
  },
  {
   "cell_type": "code",
   "execution_count": 7,
   "metadata": {},
   "outputs": [
    {
     "data": {
      "text/html": [
       "<div>\n",
       "<style scoped>\n",
       "    .dataframe tbody tr th:only-of-type {\n",
       "        vertical-align: middle;\n",
       "    }\n",
       "\n",
       "    .dataframe tbody tr th {\n",
       "        vertical-align: top;\n",
       "    }\n",
       "\n",
       "    .dataframe thead th {\n",
       "        text-align: right;\n",
       "    }\n",
       "</style>\n",
       "<table border=\"1\" class=\"dataframe\">\n",
       "  <thead>\n",
       "    <tr style=\"text-align: right;\">\n",
       "      <th></th>\n",
       "      <th>deck_name</th>\n",
       "      <th>deck_format</th>\n",
       "      <th>card_name</th>\n",
       "      <th>n_occurences</th>\n",
       "    </tr>\n",
       "  </thead>\n",
       "  <tbody>\n",
       "    <tr>\n",
       "      <th>0</th>\n",
       "      <td>Vehicles</td>\n",
       "      <td>Limited</td>\n",
       "      <td>Lita, Mechanical Engineer</td>\n",
       "      <td>1</td>\n",
       "    </tr>\n",
       "    <tr>\n",
       "      <th>1</th>\n",
       "      <td>Vehicles</td>\n",
       "      <td>Limited</td>\n",
       "      <td>Peacewalker Colossus</td>\n",
       "      <td>1</td>\n",
       "    </tr>\n",
       "    <tr>\n",
       "      <th>2</th>\n",
       "      <td>Vehicles</td>\n",
       "      <td>Limited</td>\n",
       "      <td>Hotshot Mechanic</td>\n",
       "      <td>1</td>\n",
       "    </tr>\n",
       "    <tr>\n",
       "      <th>3</th>\n",
       "      <td>Vehicles</td>\n",
       "      <td>Limited</td>\n",
       "      <td>Imperial Recovery Unit</td>\n",
       "      <td>1</td>\n",
       "    </tr>\n",
       "    <tr>\n",
       "      <th>4</th>\n",
       "      <td>Vehicles</td>\n",
       "      <td>Limited</td>\n",
       "      <td>Aethershield Artificer</td>\n",
       "      <td>1</td>\n",
       "    </tr>\n",
       "    <tr>\n",
       "      <th>...</th>\n",
       "      <td>...</td>\n",
       "      <td>...</td>\n",
       "      <td>...</td>\n",
       "      <td>...</td>\n",
       "    </tr>\n",
       "    <tr>\n",
       "      <th>1714</th>\n",
       "      <td>Urza's</td>\n",
       "      <td>Limited</td>\n",
       "      <td>Alchemist's Vial</td>\n",
       "      <td>1</td>\n",
       "    </tr>\n",
       "    <tr>\n",
       "      <th>1715</th>\n",
       "      <td>Urza's</td>\n",
       "      <td>Limited</td>\n",
       "      <td>Expedition Map</td>\n",
       "      <td>1</td>\n",
       "    </tr>\n",
       "    <tr>\n",
       "      <th>1716</th>\n",
       "      <td>Urza's</td>\n",
       "      <td>Limited</td>\n",
       "      <td>Urza's Tower</td>\n",
       "      <td>3</td>\n",
       "    </tr>\n",
       "    <tr>\n",
       "      <th>1717</th>\n",
       "      <td>Urza's</td>\n",
       "      <td>Limited</td>\n",
       "      <td>Urza's Power Plant</td>\n",
       "      <td>2</td>\n",
       "    </tr>\n",
       "    <tr>\n",
       "      <th>1718</th>\n",
       "      <td>Urza's</td>\n",
       "      <td>Limited</td>\n",
       "      <td>Urza's Mine</td>\n",
       "      <td>2</td>\n",
       "    </tr>\n",
       "  </tbody>\n",
       "</table>\n",
       "<p>1719 rows × 4 columns</p>\n",
       "</div>"
      ],
      "text/plain": [
       "     deck_name deck_format                  card_name n_occurences\n",
       "0     Vehicles     Limited  Lita, Mechanical Engineer            1\n",
       "1     Vehicles     Limited       Peacewalker Colossus            1\n",
       "2     Vehicles     Limited           Hotshot Mechanic            1\n",
       "3     Vehicles     Limited     Imperial Recovery Unit            1\n",
       "4     Vehicles     Limited     Aethershield Artificer            1\n",
       "...        ...         ...                        ...          ...\n",
       "1714    Urza's     Limited           Alchemist's Vial            1\n",
       "1715    Urza's     Limited             Expedition Map            1\n",
       "1716    Urza's     Limited               Urza's Tower            3\n",
       "1717    Urza's     Limited         Urza's Power Plant            2\n",
       "1718    Urza's     Limited                Urza's Mine            2\n",
       "\n",
       "[1719 rows x 4 columns]"
      ]
     },
     "execution_count": 7,
     "metadata": {},
     "output_type": "execute_result"
    }
   ],
   "source": [
    "j22_card_list_df"
   ]
  },
  {
   "cell_type": "code",
   "execution_count": 9,
   "metadata": {},
   "outputs": [],
   "source": [
    "j22_card_list_df.to_csv(\"../data/j22_set.csv\", index=False)"
   ]
  },
  {
   "cell_type": "code",
   "execution_count": null,
   "metadata": {},
   "outputs": [],
   "source": []
  }
 ],
 "metadata": {
  "kernelspec": {
   "display_name": "venv",
   "language": "python",
   "name": "python3"
  },
  "language_info": {
   "codemirror_mode": {
    "name": "ipython",
    "version": 3
   },
   "file_extension": ".py",
   "mimetype": "text/x-python",
   "name": "python",
   "nbconvert_exporter": "python",
   "pygments_lexer": "ipython3",
   "version": "3.10.6"
  },
  "orig_nbformat": 4
 },
 "nbformat": 4,
 "nbformat_minor": 2
}
