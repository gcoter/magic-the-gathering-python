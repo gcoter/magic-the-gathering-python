{
 "cells": [
  {
   "cell_type": "code",
   "execution_count": 1,
   "metadata": {},
   "outputs": [],
   "source": [
    "import sys\n",
    "sys.path.append(\"../\")\n",
    "\n",
    "import pandas as pd\n",
    "from magic_the_gathering.cards.deck_creator import JumpstartDeckCreator"
   ]
  },
  {
   "cell_type": "code",
   "execution_count": 2,
   "metadata": {},
   "outputs": [],
   "source": [
    "jmp_decklist_df = pd.read_csv(\"../data/jmp_decklist.csv\")\n",
    "j22_decklist_df = pd.read_csv(\"../data/j22_decklist.csv\")\n",
    "cards_df = pd.read_csv(\"../data/jumpstart_cards.csv\")"
   ]
  },
  {
   "cell_type": "code",
   "execution_count": 3,
   "metadata": {},
   "outputs": [],
   "source": [
    "jmp_and_j22_decklist_df = pd.concat([jmp_decklist_df, j22_decklist_df]).reset_index(drop=True)"
   ]
  },
  {
   "cell_type": "code",
   "execution_count": 4,
   "metadata": {},
   "outputs": [
    {
     "name": "stdout",
     "output_type": "stream",
     "text": [
      "<class 'pandas.core.frame.DataFrame'>\n",
      "RangeIndex: 3385 entries, 0 to 3384\n",
      "Data columns (total 3 columns):\n",
      " #   Column      Non-Null Count  Dtype \n",
      "---  ------      --------------  ----- \n",
      " 0   deck_name   3385 non-null   object\n",
      " 1   card_name   3385 non-null   object\n",
      " 2   card_count  3385 non-null   int64 \n",
      "dtypes: int64(1), object(2)\n",
      "memory usage: 79.5+ KB\n"
     ]
    }
   ],
   "source": [
    "jmp_and_j22_decklist_df.info()"
   ]
  },
  {
   "cell_type": "code",
   "execution_count": 5,
   "metadata": {},
   "outputs": [
    {
     "data": {
      "text/html": [
       "<div>\n",
       "<style scoped>\n",
       "    .dataframe tbody tr th:only-of-type {\n",
       "        vertical-align: middle;\n",
       "    }\n",
       "\n",
       "    .dataframe tbody tr th {\n",
       "        vertical-align: top;\n",
       "    }\n",
       "\n",
       "    .dataframe thead th {\n",
       "        text-align: right;\n",
       "    }\n",
       "</style>\n",
       "<table border=\"1\" class=\"dataframe\">\n",
       "  <thead>\n",
       "    <tr style=\"text-align: right;\">\n",
       "      <th></th>\n",
       "      <th>deck_name</th>\n",
       "      <th>card_name</th>\n",
       "      <th>card_count</th>\n",
       "    </tr>\n",
       "  </thead>\n",
       "  <tbody>\n",
       "    <tr>\n",
       "      <th>0</th>\n",
       "      <td>Basri</td>\n",
       "      <td>Basri's Acolyte</td>\n",
       "      <td>1</td>\n",
       "    </tr>\n",
       "    <tr>\n",
       "      <th>1</th>\n",
       "      <td>Basri</td>\n",
       "      <td>Basri's Lieutenant</td>\n",
       "      <td>1</td>\n",
       "    </tr>\n",
       "    <tr>\n",
       "      <th>2</th>\n",
       "      <td>Basri</td>\n",
       "      <td>Concordia Pegasus</td>\n",
       "      <td>1</td>\n",
       "    </tr>\n",
       "    <tr>\n",
       "      <th>3</th>\n",
       "      <td>Basri</td>\n",
       "      <td>Knight of the Tusk</td>\n",
       "      <td>1</td>\n",
       "    </tr>\n",
       "    <tr>\n",
       "      <th>4</th>\n",
       "      <td>Basri</td>\n",
       "      <td>Siege Striker</td>\n",
       "      <td>1</td>\n",
       "    </tr>\n",
       "  </tbody>\n",
       "</table>\n",
       "</div>"
      ],
      "text/plain": [
       "  deck_name           card_name  card_count\n",
       "0     Basri     Basri's Acolyte           1\n",
       "1     Basri  Basri's Lieutenant           1\n",
       "2     Basri   Concordia Pegasus           1\n",
       "3     Basri  Knight of the Tusk           1\n",
       "4     Basri       Siege Striker           1"
      ]
     },
     "execution_count": 5,
     "metadata": {},
     "output_type": "execute_result"
    }
   ],
   "source": [
    "jmp_and_j22_decklist_df.head()"
   ]
  },
  {
   "cell_type": "code",
   "execution_count": 6,
   "metadata": {},
   "outputs": [],
   "source": [
    "deck_creator = JumpstartDeckCreator(\n",
    "    jmp_and_j22_decklist_df,\n",
    "    cards_df,\n",
    "    allowed_types=[\"Creature\", \"Land\"]\n",
    ")"
   ]
  },
  {
   "cell_type": "code",
   "execution_count": 7,
   "metadata": {},
   "outputs": [
    {
     "data": {
      "text/plain": [
       "[[Card(uuid='6afead32-3542-44c4-82d6-b6a81beb9f90', name='Isamaru, Hound of Konda', type_line='Legendary Creature — Dog', text=nan, mana_cost='{W}', power='2', toughness='2'),\n",
       "  Card(uuid='5a4124fc-c9c5-4752-9618-dfe722c38d0b', name='Michiko Konda, Truth Seeker', type_line='Legendary Creature — Human Advisor', text='Whenever a source an opponent controls deals damage to you, that player sacrifices a permanent.', mana_cost='{3}{W}', power='2', toughness='2'),\n",
       "  Card(uuid='a6649e6c-bbd8-43db-9f3f-a24b32aed4e4', name='Magnanimous Magistrate', type_line='Creature — Human Advisor', text=\"Magnanimous Magistrate enters the battlefield with five reprieve counters on it.\\nWhenever another nontoken creature you control dies, if its mana value was 1 or greater, you may remove that many reprieve counters from Magnanimous Magistrate. If you do, return that card to the battlefield under its owner's control.\", mana_cost='{5}{W}', power='3', toughness='4'),\n",
       "  Card(uuid='5260ca48-e932-4396-a726-eefc30935c35', name='Ninth Bridge Patrol', type_line='Creature — Dwarf Soldier', text='Whenever another creature you control leaves the battlefield, put a +1/+1 counter on Ninth Bridge Patrol.', mana_cost='{1}{W}', power='1', toughness='1'),\n",
       "  Card(uuid='4d39bae5-780c-489c-87b6-4a60336afe31', name='Kami of Ancient Law', type_line='Creature — Spirit', text='Sacrifice Kami of Ancient Law: Destroy target enchantment.', mana_cost='{1}{W}', power='2', toughness='2'),\n",
       "  Card(uuid='9185d2cc-5380-4be1-ab67-a755b2e02016', name='Midnight Guard', type_line='Creature — Human Soldier', text='Whenever another creature enters the battlefield, untap Midnight Guard.', mana_cost='{2}{W}', power='2', toughness='3'),\n",
       "  Card(uuid='eb360f53-0013-4c0e-b7db-d2fc8029473a', name='Nightguard Patrol', type_line='Creature — Human Soldier', text='First strike, vigilance', mana_cost='{2}{W}', power='2', toughness='1'),\n",
       "  Card(uuid='028bd68c-24bf-4808-80d7-051012ff90e1', name='Skyhunter Patrol', type_line='Creature — Cat Knight', text=\"Flying, first strike (This creature can't be blocked except by creatures with flying or reach, and it deals combat damage before creatures without first strike.)\", mana_cost='{2}{W}{W}', power='2', toughness='3'),\n",
       "  Card(uuid='fe424eb3-7df8-4317-8776-6d960afbb90a', name='Thriving Heath', type_line='Land', text='Thriving Heath enters the battlefield tapped.\\nAs Thriving Heath enters the battlefield, choose a color other than white.\\n{T}: Add {W} or one mana of the chosen color.', mana_cost='', power='', toughness=''),\n",
       "  Card(uuid='0a479838-b6b1-4d83-9104-0a79f3b934c7', name='Plains', type_line='Basic Land — Plains', text='({T}: Add {W}.)', mana_cost='', power='', toughness=''),\n",
       "  Card(uuid='0a479838-b6b1-4d83-9104-0a79f3b934c7', name='Plains', type_line='Basic Land — Plains', text='({T}: Add {W}.)', mana_cost='', power='', toughness=''),\n",
       "  Card(uuid='0a479838-b6b1-4d83-9104-0a79f3b934c7', name='Plains', type_line='Basic Land — Plains', text='({T}: Add {W}.)', mana_cost='', power='', toughness=''),\n",
       "  Card(uuid='0a479838-b6b1-4d83-9104-0a79f3b934c7', name='Plains', type_line='Basic Land — Plains', text='({T}: Add {W}.)', mana_cost='', power='', toughness=''),\n",
       "  Card(uuid='0a479838-b6b1-4d83-9104-0a79f3b934c7', name='Plains', type_line='Basic Land — Plains', text='({T}: Add {W}.)', mana_cost='', power='', toughness=''),\n",
       "  Card(uuid='0a479838-b6b1-4d83-9104-0a79f3b934c7', name='Plains', type_line='Basic Land — Plains', text='({T}: Add {W}.)', mana_cost='', power='', toughness=''),\n",
       "  Card(uuid='0a479838-b6b1-4d83-9104-0a79f3b934c7', name='Plains', type_line='Basic Land — Plains', text='({T}: Add {W}.)', mana_cost='', power='', toughness=''),\n",
       "  Card(uuid='8ea009c1-505e-4307-b8f3-2d37e36507a6', name=\"Ajani's Chosen\", type_line='Creature — Cat Soldier', text='Whenever an enchantment enters the battlefield under your control, create a 2/2 white Cat creature token. If that enchantment is an Aura, you may attach it to the token.', mana_cost='{2}{W}{W}', power='3', toughness='3'),\n",
       "  Card(uuid='2f060a74-dd75-4625-8842-27cb13a279e6', name='Blessed Spirits', type_line='Creature — Spirit', text='Flying\\nWhenever you cast an enchantment spell, put a +1/+1 counter on Blessed Spirits.', mana_cost='{2}{W}', power='2', toughness='2'),\n",
       "  Card(uuid='5104d4fe-4c20-4106-b405-a2b35140c942', name='Bulwark Giant', type_line='Creature — Giant Soldier', text='When Bulwark Giant enters the battlefield, you gain 5 life.', mana_cost='{5}{W}', power='3', toughness='6'),\n",
       "  Card(uuid='db17f25a-32d1-469b-bb5f-f1761e227990', name='Staunch Shieldmate', type_line='Creature — Dwarf Soldier', text=nan, mana_cost='{W}', power='1', toughness='3'),\n",
       "  Card(uuid='5cd3287d-e4d8-4670-a2dd-b683055ae4b9', name='Stone Haven Pilgrim', type_line='Creature — Kor Cleric', text='Whenever Stone Haven Pilgrim attacks, if you control an artifact or enchantment, Stone Haven Pilgrim gets +1/+1 and gains lifelink until end of turn.', mana_cost='{1}{W}', power='2', toughness='2'),\n",
       "  Card(uuid='ab4eb490-acd0-4162-8e8a-7e7ff003d0f3', name='Trusty Retriever', type_line='Creature — Dog', text='When Trusty Retriever enters the battlefield, choose one —\\n• Put a +1/+1 counter on Trusty Retriever.\\n• Return target artifact or enchantment card from your graveyard to your hand.', mana_cost='{3}{W}', power='2', toughness='3'),\n",
       "  Card(uuid='fe424eb3-7df8-4317-8776-6d960afbb90a', name='Thriving Heath', type_line='Land', text='Thriving Heath enters the battlefield tapped.\\nAs Thriving Heath enters the battlefield, choose a color other than white.\\n{T}: Add {W} or one mana of the chosen color.', mana_cost='', power='', toughness=''),\n",
       "  Card(uuid='0a479838-b6b1-4d83-9104-0a79f3b934c7', name='Plains', type_line='Basic Land — Plains', text='({T}: Add {W}.)', mana_cost='', power='', toughness=''),\n",
       "  Card(uuid='0a479838-b6b1-4d83-9104-0a79f3b934c7', name='Plains', type_line='Basic Land — Plains', text='({T}: Add {W}.)', mana_cost='', power='', toughness=''),\n",
       "  Card(uuid='0a479838-b6b1-4d83-9104-0a79f3b934c7', name='Plains', type_line='Basic Land — Plains', text='({T}: Add {W}.)', mana_cost='', power='', toughness=''),\n",
       "  Card(uuid='0a479838-b6b1-4d83-9104-0a79f3b934c7', name='Plains', type_line='Basic Land — Plains', text='({T}: Add {W}.)', mana_cost='', power='', toughness=''),\n",
       "  Card(uuid='0a479838-b6b1-4d83-9104-0a79f3b934c7', name='Plains', type_line='Basic Land — Plains', text='({T}: Add {W}.)', mana_cost='', power='', toughness=''),\n",
       "  Card(uuid='0a479838-b6b1-4d83-9104-0a79f3b934c7', name='Plains', type_line='Basic Land — Plains', text='({T}: Add {W}.)', mana_cost='', power='', toughness=''),\n",
       "  Card(uuid='0a479838-b6b1-4d83-9104-0a79f3b934c7', name='Plains', type_line='Basic Land — Plains', text='({T}: Add {W}.)', mana_cost='', power='', toughness='')]]"
      ]
     },
     "execution_count": 7,
     "metadata": {},
     "output_type": "execute_result"
    }
   ],
   "source": [
    "deck_creator.create_decks(n_players=1)"
   ]
  },
  {
   "cell_type": "code",
   "execution_count": null,
   "metadata": {},
   "outputs": [],
   "source": []
  }
 ],
 "metadata": {
  "kernelspec": {
   "display_name": "venv",
   "language": "python",
   "name": "python3"
  },
  "language_info": {
   "codemirror_mode": {
    "name": "ipython",
    "version": 3
   },
   "file_extension": ".py",
   "mimetype": "text/x-python",
   "name": "python",
   "nbconvert_exporter": "python",
   "pygments_lexer": "ipython3",
   "version": "3.10.6"
  },
  "orig_nbformat": 4
 },
 "nbformat": 4,
 "nbformat_minor": 2
}
