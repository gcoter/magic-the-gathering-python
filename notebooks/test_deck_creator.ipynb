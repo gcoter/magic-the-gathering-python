{
 "cells": [
  {
   "cell_type": "code",
   "execution_count": 1,
   "metadata": {},
   "outputs": [],
   "source": [
    "import sys\n",
    "sys.path.append(\"../\")\n",
    "\n",
    "import pandas as pd\n",
    "from magic_the_gathering.cards.deck_creator import JumpstartDeckCreator"
   ]
  },
  {
   "cell_type": "code",
   "execution_count": 2,
   "metadata": {},
   "outputs": [],
   "source": [
    "card_sets_df = pd.read_csv(\"../data/j22_set.csv\")\n",
    "cards_df = pd.read_csv(\"../data/j22_cards.csv\")"
   ]
  },
  {
   "cell_type": "code",
   "execution_count": 3,
   "metadata": {},
   "outputs": [],
   "source": [
    "deck_creator = JumpstartDeckCreator(\n",
    "    card_sets_df,\n",
    "    cards_df,\n",
    "    allowed_types=[\"Creature\", \"Land\"]\n",
    ")"
   ]
  },
  {
   "cell_type": "code",
   "execution_count": 4,
   "metadata": {},
   "outputs": [
    {
     "data": {
      "text/plain": [
       "[[Card(uuid='c575ed35-6357-4b48-9d20-e4249577142b', name='Benevolent Hydra', type_line='Creature — Hydra', text='Benevolent Hydra enters the battlefield with X +1/+1 counters on it.\\nIf one or more +1/+1 counters would be put on another creature you control, that many plus one +1/+1 counters are put on it instead.\\n{T}, Remove a +1/+1 counter from Benevolent Hydra: Put a +1/+1 counter on another target creature you control.', mana_cost='{X}{G}{G}', power='1', toughness='1'),\n",
       "  Card(uuid='846f1435-5900-47db-b7ec-57f71896f94b', name='Domesticated Hydra', type_line='Creature — Hydra', text=\"{X}{G}{G}{G}: Monstrosity X. (If this creature isn't monstrous, put X +1/+1 counters on it and it becomes monstrous.)\\nAs long as Domesticated Hydra is monstrous, it has trample.\", mana_cost='{2}{G}{G}', power='3', toughness='3'),\n",
       "  Card(uuid='e49a14f1-7230-4b4e-998b-543a2971324e', name='Clockwork Hydra', type_line='Artifact Creature — Hydra', text='Clockwork Hydra enters the battlefield with four +1/+1 counters on it.\\nWhenever Clockwork Hydra attacks or blocks, remove a +1/+1 counter from it. If you do, Clockwork Hydra deals 1 damage to any target.\\n{T}: Put a +1/+1 counter on Clockwork Hydra.', mana_cost='{5}', power='0', toughness='0'),\n",
       "  Card(uuid='46d621a3-c613-44f2-a986-25d72dfa4ff6', name='Feral Hydra', type_line='Creature — Hydra Beast', text='Feral Hydra enters the battlefield with X +1/+1 counters on it.\\n{3}: Put a +1/+1 counter on Feral Hydra. Any player may activate this ability.', mana_cost='{X}{G}', power='0', toughness='0'),\n",
       "  Card(uuid='92ea1091-01bd-4540-8681-344085b5ff84', name='Servant of the Scale', type_line='Creature — Human Soldier', text='Servant of the Scale enters the battlefield with a +1/+1 counter on it.\\nWhen Servant of the Scale dies, put X +1/+1 counters on target creature you control, where X is the number of +1/+1 counters on Servant of the Scale.', mana_cost='{G}', power='0', toughness='0'),\n",
       "  Card(uuid='e931e8ec-78c1-473c-b772-d359842d8350', name='Ilysian Caryatid', type_line='Creature — Plant', text='{T}: Add one mana of any color. If you control a creature with power 4 or greater, add two mana of any one color instead.', mana_cost='{1}{G}', power='1', toughness='1'),\n",
       "  Card(uuid='5f511123-4a07-4e80-aa85-e52ee4c7ea4d', name='Fertilid', type_line='Creature — Elemental', text='Fertilid enters the battlefield with two +1/+1 counters on it.\\n{1}{G}, Remove a +1/+1 counter from Fertilid: Target player searches their library for a basic land card, puts it onto the battlefield tapped, then shuffles.', mana_cost='{2}{G}', power='0', toughness='0'),\n",
       "  Card(uuid='23829580-9ae9-41c1-9b58-aea07389110d', name='Thriving Grove', type_line='Land', text='Thriving Grove enters the battlefield tapped.\\nAs Thriving Grove enters the battlefield, choose a color other than green.\\n{T}: Add {G} or one mana of the chosen color.', mana_cost='', power='', toughness=''),\n",
       "  Card(uuid='900eedf8-71b0-4b82-9709-019018bc29fe', name='Forest', type_line='Basic Land — Forest', text='({T}: Add {G}.)', mana_cost='', power='', toughness=''),\n",
       "  Card(uuid='900eedf8-71b0-4b82-9709-019018bc29fe', name='Forest', type_line='Basic Land — Forest', text='({T}: Add {G}.)', mana_cost='', power='', toughness=''),\n",
       "  Card(uuid='900eedf8-71b0-4b82-9709-019018bc29fe', name='Forest', type_line='Basic Land — Forest', text='({T}: Add {G}.)', mana_cost='', power='', toughness=''),\n",
       "  Card(uuid='900eedf8-71b0-4b82-9709-019018bc29fe', name='Forest', type_line='Basic Land — Forest', text='({T}: Add {G}.)', mana_cost='', power='', toughness=''),\n",
       "  Card(uuid='900eedf8-71b0-4b82-9709-019018bc29fe', name='Forest', type_line='Basic Land — Forest', text='({T}: Add {G}.)', mana_cost='', power='', toughness=''),\n",
       "  Card(uuid='900eedf8-71b0-4b82-9709-019018bc29fe', name='Forest', type_line='Basic Land — Forest', text='({T}: Add {G}.)', mana_cost='', power='', toughness=''),\n",
       "  Card(uuid='900eedf8-71b0-4b82-9709-019018bc29fe', name='Forest', type_line='Basic Land — Forest', text='({T}: Add {G}.)', mana_cost='', power='', toughness=''),\n",
       "  Card(uuid='0884ffe1-4f4c-40a4-88c2-d34a19d80dd9', name='Glint-Horn Buccaneer', type_line='Creature — Minotaur Pirate', text='Haste\\nWhenever you discard a card, Glint-Horn Buccaneer deals 1 damage to each opponent.\\n{1}{R}, Discard a card: Draw a card. Activate only if Glint-Horn Buccaneer is attacking.', mana_cost='{1}{R}{R}', power='2', toughness='4'),\n",
       "  Card(uuid='0e2bc701-2a18-4e49-acef-5e18ebfba64f', name='Rigging Runner', type_line='Creature — Goblin Pirate', text='First strike\\nRaid — Rigging Runner enters the battlefield with a +1/+1 counter on it if you attacked this turn.', mana_cost='{R}', power='1', toughness='1'),\n",
       "  Card(uuid='9c0c688b-7eb4-4741-9f6f-6f8d21b22cc5', name='War-Name Aspirant', type_line='Creature — Human Warrior', text=\"Raid — War-Name Aspirant enters the battlefield with a +1/+1 counter on it if you attacked this turn.\\nWar-Name Aspirant can't be blocked by creatures with power 1 or less.\", mana_cost='{1}{R}', power='2', toughness='1'),\n",
       "  Card(uuid='c11fd96f-9adb-4227-b1cb-4300c0621789', name='Immersturm Raider', type_line='Creature — Demon Berserker', text='When Immersturm Raider enters the battlefield, you may discard a card. If you do, draw a card.', mana_cost='{1}{R}', power='2', toughness='1'),\n",
       "  Card(uuid='d09baa4e-4ae0-4509-ab48-51d31d367649', name='Swaggering Corsair', type_line='Creature — Human Pirate', text='Raid — Swaggering Corsair enters the battlefield with a +1/+1 counter on it if you attacked this turn.', mana_cost='{2}{R}', power='2', toughness='2'),\n",
       "  Card(uuid='75f40a0c-89f1-4d6d-9297-99c90615d8ed', name='Storm Fleet Pyromancer', type_line='Creature — Human Pirate Wizard', text='Raid — When Storm Fleet Pyromancer enters the battlefield, if you attacked this turn, Storm Fleet Pyromancer deals 2 damage to any target.', mana_cost='{4}{R}', power='3', toughness='2'),\n",
       "  Card(uuid='f48b3f46-0e62-4f44-8064-857cd3040659', name='Plundering Predator', type_line='Creature — Dragon', text='Flying\\nWhen Plundering Predator enters the battlefield, you may discard a card. If you do, draw a card.', mana_cost='{4}{R}', power='3', toughness='3'),\n",
       "  Card(uuid='9524677a-d27c-41e1-9122-f471980a1fff', name='Keldon Raider', type_line='Creature — Human Warrior', text='When Keldon Raider enters the battlefield, you may discard a card. If you do, draw a card.', mana_cost='{2}{R}{R}', power='4', toughness='3'),\n",
       "  Card(uuid='5c3593aa-e33c-4482-a0bb-c843ac70a824', name='Thriving Bluff', type_line='Land', text='Thriving Bluff enters the battlefield tapped.\\nAs Thriving Bluff enters the battlefield, choose a color other than red.\\n{T}: Add {R} or one mana of the chosen color.', mana_cost='', power='', toughness=''),\n",
       "  Card(uuid='52c79d57-a8eb-427d-86ac-b203c0bb7cda', name='Mountain', type_line='Basic Land — Mountain', text='({T}: Add {R}.)', mana_cost='', power='', toughness=''),\n",
       "  Card(uuid='52c79d57-a8eb-427d-86ac-b203c0bb7cda', name='Mountain', type_line='Basic Land — Mountain', text='({T}: Add {R}.)', mana_cost='', power='', toughness=''),\n",
       "  Card(uuid='52c79d57-a8eb-427d-86ac-b203c0bb7cda', name='Mountain', type_line='Basic Land — Mountain', text='({T}: Add {R}.)', mana_cost='', power='', toughness=''),\n",
       "  Card(uuid='52c79d57-a8eb-427d-86ac-b203c0bb7cda', name='Mountain', type_line='Basic Land — Mountain', text='({T}: Add {R}.)', mana_cost='', power='', toughness=''),\n",
       "  Card(uuid='52c79d57-a8eb-427d-86ac-b203c0bb7cda', name='Mountain', type_line='Basic Land — Mountain', text='({T}: Add {R}.)', mana_cost='', power='', toughness=''),\n",
       "  Card(uuid='52c79d57-a8eb-427d-86ac-b203c0bb7cda', name='Mountain', type_line='Basic Land — Mountain', text='({T}: Add {R}.)', mana_cost='', power='', toughness=''),\n",
       "  Card(uuid='52c79d57-a8eb-427d-86ac-b203c0bb7cda', name='Mountain', type_line='Basic Land — Mountain', text='({T}: Add {R}.)', mana_cost='', power='', toughness='')]]"
      ]
     },
     "execution_count": 4,
     "metadata": {},
     "output_type": "execute_result"
    }
   ],
   "source": [
    "deck_creator.create_decks(n_players=1)"
   ]
  },
  {
   "cell_type": "code",
   "execution_count": null,
   "metadata": {},
   "outputs": [],
   "source": []
  }
 ],
 "metadata": {
  "kernelspec": {
   "display_name": "venv",
   "language": "python",
   "name": "python3"
  },
  "language_info": {
   "codemirror_mode": {
    "name": "ipython",
    "version": 3
   },
   "file_extension": ".py",
   "mimetype": "text/x-python",
   "name": "python",
   "nbconvert_exporter": "python",
   "pygments_lexer": "ipython3",
   "version": "3.10.6"
  },
  "orig_nbformat": 4
 },
 "nbformat": 4,
 "nbformat_minor": 2
}
