{
 "cells": [
  {
   "cell_type": "code",
   "execution_count": 1,
   "metadata": {},
   "outputs": [],
   "source": [
    "import requests\n",
    "from bs4 import BeautifulSoup\n",
    "\n",
    "import pandas as pd"
   ]
  },
  {
   "cell_type": "code",
   "execution_count": 2,
   "metadata": {},
   "outputs": [],
   "source": [
    "urls = [\n",
    "    \"https://mtg.fandom.com/wiki/Jumpstart/Decklists_-_White\",\n",
    "    \"https://mtg.fandom.com/wiki/Jumpstart/Decklists_-_Blue\",\n",
    "    \"https://mtg.fandom.com/wiki/Jumpstart/Decklists_-_Black\",\n",
    "    \"https://mtg.fandom.com/wiki/Jumpstart/Decklists_-_Red\",\n",
    "    \"https://mtg.fandom.com/wiki/Jumpstart/Decklists_-_Green\",\n",
    "]"
   ]
  },
  {
   "cell_type": "code",
   "execution_count": 3,
   "metadata": {},
   "outputs": [],
   "source": [
    "jumpstart_decklist_df = pd.DataFrame()"
   ]
  },
  {
   "cell_type": "code",
   "execution_count": 4,
   "metadata": {},
   "outputs": [
    {
     "name": "stdout",
     "output_type": "stream",
     "text": [
      "Scrap url: 'https://mtg.fandom.com/wiki/Jumpstart/Decklists_-_White'\n",
      "Scrap url: 'https://mtg.fandom.com/wiki/Jumpstart/Decklists_-_Blue'\n",
      "Scrap url: 'https://mtg.fandom.com/wiki/Jumpstart/Decklists_-_Black'\n",
      "Scrap url: 'https://mtg.fandom.com/wiki/Jumpstart/Decklists_-_Red'\n",
      "Scrap url: 'https://mtg.fandom.com/wiki/Jumpstart/Decklists_-_Green'\n"
     ]
    }
   ],
   "source": [
    "for url in urls:\n",
    "    print(f\"Scrap url: '{url}'\")\n",
    "\n",
    "    response = requests.get(url)\n",
    "    soup = BeautifulSoup(response.content, \"html.parser\")\n",
    "\n",
    "    decktitle_divs = soup.find_all(\"div\", {\"class\": \"ext-scryfall-decktitlecontainer\"})\n",
    "    deckcontents_divs = soup.find_all(\"div\", {\"class\": \"ext-scryfall-deckcontents\"})\n",
    "    assert len(decktitle_divs) == len(deckcontents_divs)\n",
    "\n",
    "    for decktitle_div, deckcontents_div in zip(decktitle_divs, deckcontents_divs):\n",
    "        deck_name = decktitle_div.find(\"span\", {\"class\": \"ext-scryfall-decktitle\"}).text\n",
    "        decklist_ps = deckcontents_div.find_all(\"p\", {\"class\": \"ext-scryfall-deckentry\"})\n",
    "        for decklist_p in decklist_ps:\n",
    "            card_name = decklist_p.find(\"a\", {\"class\": \"ext-scryfall-cardname\"}).text\n",
    "            card_count = decklist_p.find(\"span\", {\"class\": \"ext-scryfall-deckcardcount\"}).text\n",
    "            \n",
    "            jumpstart_decklist_df = pd.concat([\n",
    "                jumpstart_decklist_df,\n",
    "                pd.DataFrame([{\n",
    "                    \"deck_name\": deck_name,\n",
    "                    \"card_name\": card_name,\n",
    "                    \"card_count\": card_count\n",
    "                }])\n",
    "            ])"
   ]
  },
  {
   "cell_type": "code",
   "execution_count": 5,
   "metadata": {},
   "outputs": [],
   "source": [
    "jumpstart_decklist_df = jumpstart_decklist_df.reset_index(drop=True)"
   ]
  },
  {
   "cell_type": "code",
   "execution_count": 6,
   "metadata": {},
   "outputs": [
    {
     "data": {
      "text/html": [
       "<div>\n",
       "<style scoped>\n",
       "    .dataframe tbody tr th:only-of-type {\n",
       "        vertical-align: middle;\n",
       "    }\n",
       "\n",
       "    .dataframe tbody tr th {\n",
       "        vertical-align: top;\n",
       "    }\n",
       "\n",
       "    .dataframe thead th {\n",
       "        text-align: right;\n",
       "    }\n",
       "</style>\n",
       "<table border=\"1\" class=\"dataframe\">\n",
       "  <thead>\n",
       "    <tr style=\"text-align: right;\">\n",
       "      <th></th>\n",
       "      <th>deck_name</th>\n",
       "      <th>card_name</th>\n",
       "      <th>card_count</th>\n",
       "    </tr>\n",
       "  </thead>\n",
       "  <tbody>\n",
       "    <tr>\n",
       "      <th>0</th>\n",
       "      <td>Basri</td>\n",
       "      <td>Basri's Acolyte</td>\n",
       "      <td>1</td>\n",
       "    </tr>\n",
       "    <tr>\n",
       "      <th>1</th>\n",
       "      <td>Basri</td>\n",
       "      <td>Basri's Lieutenant</td>\n",
       "      <td>1</td>\n",
       "    </tr>\n",
       "    <tr>\n",
       "      <th>2</th>\n",
       "      <td>Basri</td>\n",
       "      <td>Concordia Pegasus</td>\n",
       "      <td>1</td>\n",
       "    </tr>\n",
       "    <tr>\n",
       "      <th>3</th>\n",
       "      <td>Basri</td>\n",
       "      <td>Knight of the Tusk</td>\n",
       "      <td>1</td>\n",
       "    </tr>\n",
       "    <tr>\n",
       "      <th>4</th>\n",
       "      <td>Basri</td>\n",
       "      <td>Siege Striker</td>\n",
       "      <td>1</td>\n",
       "    </tr>\n",
       "    <tr>\n",
       "      <th>...</th>\n",
       "      <td>...</td>\n",
       "      <td>...</td>\n",
       "      <td>...</td>\n",
       "    </tr>\n",
       "    <tr>\n",
       "      <th>1661</th>\n",
       "      <td>Tree-Hugging 4</td>\n",
       "      <td>Explore</td>\n",
       "      <td>1</td>\n",
       "    </tr>\n",
       "    <tr>\n",
       "      <th>1662</th>\n",
       "      <td>Tree-Hugging 4</td>\n",
       "      <td>Nature's Way</td>\n",
       "      <td>1</td>\n",
       "    </tr>\n",
       "    <tr>\n",
       "      <th>1663</th>\n",
       "      <td>Tree-Hugging 4</td>\n",
       "      <td>Verdant Embrace</td>\n",
       "      <td>1</td>\n",
       "    </tr>\n",
       "    <tr>\n",
       "      <th>1664</th>\n",
       "      <td>Tree-Hugging 4</td>\n",
       "      <td>Thriving Grove</td>\n",
       "      <td>1</td>\n",
       "    </tr>\n",
       "    <tr>\n",
       "      <th>1665</th>\n",
       "      <td>Tree-Hugging 4</td>\n",
       "      <td>Forest</td>\n",
       "      <td>7</td>\n",
       "    </tr>\n",
       "  </tbody>\n",
       "</table>\n",
       "<p>1666 rows × 3 columns</p>\n",
       "</div>"
      ],
      "text/plain": [
       "           deck_name           card_name card_count\n",
       "0              Basri     Basri's Acolyte          1\n",
       "1              Basri  Basri's Lieutenant          1\n",
       "2              Basri   Concordia Pegasus          1\n",
       "3              Basri  Knight of the Tusk          1\n",
       "4              Basri       Siege Striker          1\n",
       "...              ...                 ...        ...\n",
       "1661  Tree-Hugging 4             Explore          1\n",
       "1662  Tree-Hugging 4        Nature's Way          1\n",
       "1663  Tree-Hugging 4     Verdant Embrace          1\n",
       "1664  Tree-Hugging 4      Thriving Grove          1\n",
       "1665  Tree-Hugging 4              Forest          7\n",
       "\n",
       "[1666 rows x 3 columns]"
      ]
     },
     "execution_count": 6,
     "metadata": {},
     "output_type": "execute_result"
    }
   ],
   "source": [
    "jumpstart_decklist_df"
   ]
  },
  {
   "cell_type": "code",
   "execution_count": 7,
   "metadata": {},
   "outputs": [],
   "source": [
    "jumpstart_decklist_df.to_csv(\"../data/jmp_decklist.csv\", index=False)"
   ]
  },
  {
   "cell_type": "code",
   "execution_count": null,
   "metadata": {},
   "outputs": [],
   "source": []
  }
 ],
 "metadata": {
  "kernelspec": {
   "display_name": "venv",
   "language": "python",
   "name": "python3"
  },
  "language_info": {
   "codemirror_mode": {
    "name": "ipython",
    "version": 3
   },
   "file_extension": ".py",
   "mimetype": "text/x-python",
   "name": "python",
   "nbconvert_exporter": "python",
   "pygments_lexer": "ipython3",
   "version": "3.10.6"
  },
  "orig_nbformat": 4
 },
 "nbformat": 4,
 "nbformat_minor": 2
}
