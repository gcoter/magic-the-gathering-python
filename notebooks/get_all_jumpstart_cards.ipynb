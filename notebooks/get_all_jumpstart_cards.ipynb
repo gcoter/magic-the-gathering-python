{
 "cells": [
  {
   "cell_type": "code",
   "execution_count": 1,
   "metadata": {},
   "outputs": [],
   "source": [
    "import json\n",
    "import pandas as pd"
   ]
  },
  {
   "cell_type": "code",
   "execution_count": 2,
   "metadata": {},
   "outputs": [],
   "source": [
    "pd.set_option(\"display.max_columns\", None)"
   ]
  },
  {
   "cell_type": "code",
   "execution_count": 3,
   "metadata": {},
   "outputs": [],
   "source": [
    "with open(\"../data/scryfall/default-cards-20230502210911.json\", \"r\") as f:\n",
    "    scryfall_default_cards_json_list = json.load(f)"
   ]
  },
  {
   "cell_type": "code",
   "execution_count": 4,
   "metadata": {},
   "outputs": [
    {
     "data": {
      "text/plain": [
       "82769"
      ]
     },
     "execution_count": 4,
     "metadata": {},
     "output_type": "execute_result"
    }
   ],
   "source": [
    "len(scryfall_default_cards_json_list)"
   ]
  },
  {
   "cell_type": "code",
   "execution_count": 5,
   "metadata": {},
   "outputs": [],
   "source": [
    "df = pd.DataFrame(scryfall_default_cards_json_list)"
   ]
  },
  {
   "cell_type": "code",
   "execution_count": 6,
   "metadata": {},
   "outputs": [],
   "source": [
    "columns_to_select = [\n",
    "    \"id\",\n",
    "    \"name\",\n",
    "    \"set\",\n",
    "    \"set_name\",\n",
    "    \"rarity\",\n",
    "    \"type_line\",\n",
    "    \"colors\",\n",
    "    \"color_identity\",\n",
    "    \"mana_cost\",\n",
    "    \"power\",\n",
    "    \"toughness\",\n",
    "    \"oracle_text\",\n",
    "    \"keywords\",\n",
    "]"
   ]
  },
  {
   "cell_type": "code",
   "execution_count": 7,
   "metadata": {},
   "outputs": [],
   "source": [
    "df = df[columns_to_select]"
   ]
  },
  {
   "cell_type": "code",
   "execution_count": 8,
   "metadata": {},
   "outputs": [],
   "source": [
    "df = df[df[\"set\"].isin([\"jmp\", \"j22\", \"m21\"])].reset_index(drop=True)"
   ]
  },
  {
   "cell_type": "code",
   "execution_count": 9,
   "metadata": {},
   "outputs": [
    {
     "name": "stdout",
     "output_type": "stream",
     "text": [
      "<class 'pandas.core.frame.DataFrame'>\n",
      "RangeIndex: 1729 entries, 0 to 1728\n",
      "Data columns (total 13 columns):\n",
      " #   Column          Non-Null Count  Dtype \n",
      "---  ------          --------------  ----- \n",
      " 0   id              1729 non-null   object\n",
      " 1   name            1729 non-null   object\n",
      " 2   set             1729 non-null   object\n",
      " 3   set_name        1729 non-null   object\n",
      " 4   rarity          1729 non-null   object\n",
      " 5   type_line       1729 non-null   object\n",
      " 6   colors          1729 non-null   object\n",
      " 7   color_identity  1729 non-null   object\n",
      " 8   mana_cost       1729 non-null   object\n",
      " 9   power           994 non-null    object\n",
      " 10  toughness       994 non-null    object\n",
      " 11  oracle_text     1729 non-null   object\n",
      " 12  keywords        1729 non-null   object\n",
      "dtypes: object(13)\n",
      "memory usage: 175.7+ KB\n"
     ]
    }
   ],
   "source": [
    "df.info()"
   ]
  },
  {
   "cell_type": "code",
   "execution_count": 10,
   "metadata": {},
   "outputs": [
    {
     "data": {
      "text/html": [
       "<div>\n",
       "<style scoped>\n",
       "    .dataframe tbody tr th:only-of-type {\n",
       "        vertical-align: middle;\n",
       "    }\n",
       "\n",
       "    .dataframe tbody tr th {\n",
       "        vertical-align: top;\n",
       "    }\n",
       "\n",
       "    .dataframe thead th {\n",
       "        text-align: right;\n",
       "    }\n",
       "</style>\n",
       "<table border=\"1\" class=\"dataframe\">\n",
       "  <thead>\n",
       "    <tr style=\"text-align: right;\">\n",
       "      <th></th>\n",
       "      <th>id</th>\n",
       "      <th>name</th>\n",
       "      <th>set</th>\n",
       "      <th>set_name</th>\n",
       "      <th>rarity</th>\n",
       "      <th>type_line</th>\n",
       "      <th>colors</th>\n",
       "      <th>color_identity</th>\n",
       "      <th>mana_cost</th>\n",
       "      <th>power</th>\n",
       "      <th>toughness</th>\n",
       "      <th>oracle_text</th>\n",
       "      <th>keywords</th>\n",
       "    </tr>\n",
       "  </thead>\n",
       "  <tbody>\n",
       "    <tr>\n",
       "      <th>0</th>\n",
       "      <td>0002ab72-834b-4c81-82b1-0d2760ea96b0</td>\n",
       "      <td>Mystic Skyfish</td>\n",
       "      <td>m21</td>\n",
       "      <td>Core Set 2021</td>\n",
       "      <td>common</td>\n",
       "      <td>Creature — Fish</td>\n",
       "      <td>[U]</td>\n",
       "      <td>[U]</td>\n",
       "      <td>{2}{U}</td>\n",
       "      <td>3</td>\n",
       "      <td>1</td>\n",
       "      <td>Whenever you draw your second card each turn, ...</td>\n",
       "      <td>[]</td>\n",
       "    </tr>\n",
       "    <tr>\n",
       "      <th>1</th>\n",
       "      <td>00030770-5e99-4943-819d-8d807c24cc14</td>\n",
       "      <td>Swamp</td>\n",
       "      <td>jmp</td>\n",
       "      <td>Jumpstart</td>\n",
       "      <td>common</td>\n",
       "      <td>Basic Land — Swamp</td>\n",
       "      <td>[]</td>\n",
       "      <td>[B]</td>\n",
       "      <td></td>\n",
       "      <td>NaN</td>\n",
       "      <td>NaN</td>\n",
       "      <td>({T}: Add {B}.)</td>\n",
       "      <td>[]</td>\n",
       "    </tr>\n",
       "    <tr>\n",
       "      <th>2</th>\n",
       "      <td>00502ed1-4364-41cd-b717-1f9e38d1afe6</td>\n",
       "      <td>Howlgeist</td>\n",
       "      <td>j22</td>\n",
       "      <td>Jumpstart 2022</td>\n",
       "      <td>uncommon</td>\n",
       "      <td>Creature — Spirit Wolf</td>\n",
       "      <td>[G]</td>\n",
       "      <td>[G]</td>\n",
       "      <td>{5}{G}</td>\n",
       "      <td>4</td>\n",
       "      <td>2</td>\n",
       "      <td>Creatures with power less than Howlgeist's pow...</td>\n",
       "      <td>[Undying]</td>\n",
       "    </tr>\n",
       "    <tr>\n",
       "      <th>3</th>\n",
       "      <td>011bc5b7-c4d5-4c4c-af0d-aa0853d63f3a</td>\n",
       "      <td>Buried Ruin</td>\n",
       "      <td>jmp</td>\n",
       "      <td>Jumpstart</td>\n",
       "      <td>uncommon</td>\n",
       "      <td>Land</td>\n",
       "      <td>[]</td>\n",
       "      <td>[]</td>\n",
       "      <td></td>\n",
       "      <td>NaN</td>\n",
       "      <td>NaN</td>\n",
       "      <td>{T}: Add {C}.\\n{2}, {T}, Sacrifice Buried Ruin...</td>\n",
       "      <td>[]</td>\n",
       "    </tr>\n",
       "    <tr>\n",
       "      <th>4</th>\n",
       "      <td>011cfa46-6827-4418-881b-686eb34e06ce</td>\n",
       "      <td>Mangara, the Diplomat</td>\n",
       "      <td>m21</td>\n",
       "      <td>Core Set 2021</td>\n",
       "      <td>mythic</td>\n",
       "      <td>Legendary Creature — Human Cleric</td>\n",
       "      <td>[W]</td>\n",
       "      <td>[W]</td>\n",
       "      <td>{3}{W}</td>\n",
       "      <td>2</td>\n",
       "      <td>4</td>\n",
       "      <td>Lifelink\\nWhenever an opponent attacks with cr...</td>\n",
       "      <td>[Lifelink]</td>\n",
       "    </tr>\n",
       "  </tbody>\n",
       "</table>\n",
       "</div>"
      ],
      "text/plain": [
       "                                     id                   name  set   \n",
       "0  0002ab72-834b-4c81-82b1-0d2760ea96b0         Mystic Skyfish  m21  \\\n",
       "1  00030770-5e99-4943-819d-8d807c24cc14                  Swamp  jmp   \n",
       "2  00502ed1-4364-41cd-b717-1f9e38d1afe6              Howlgeist  j22   \n",
       "3  011bc5b7-c4d5-4c4c-af0d-aa0853d63f3a            Buried Ruin  jmp   \n",
       "4  011cfa46-6827-4418-881b-686eb34e06ce  Mangara, the Diplomat  m21   \n",
       "\n",
       "         set_name    rarity                          type_line colors   \n",
       "0   Core Set 2021    common                    Creature — Fish    [U]  \\\n",
       "1       Jumpstart    common                 Basic Land — Swamp     []   \n",
       "2  Jumpstart 2022  uncommon             Creature — Spirit Wolf    [G]   \n",
       "3       Jumpstart  uncommon                               Land     []   \n",
       "4   Core Set 2021    mythic  Legendary Creature — Human Cleric    [W]   \n",
       "\n",
       "  color_identity mana_cost power toughness   \n",
       "0            [U]    {2}{U}     3         1  \\\n",
       "1            [B]             NaN       NaN   \n",
       "2            [G]    {5}{G}     4         2   \n",
       "3             []             NaN       NaN   \n",
       "4            [W]    {3}{W}     2         4   \n",
       "\n",
       "                                         oracle_text    keywords  \n",
       "0  Whenever you draw your second card each turn, ...          []  \n",
       "1                                    ({T}: Add {B}.)          []  \n",
       "2  Creatures with power less than Howlgeist's pow...   [Undying]  \n",
       "3  {T}: Add {C}.\\n{2}, {T}, Sacrifice Buried Ruin...          []  \n",
       "4  Lifelink\\nWhenever an opponent attacks with cr...  [Lifelink]  "
      ]
     },
     "execution_count": 10,
     "metadata": {},
     "output_type": "execute_result"
    }
   ],
   "source": [
    "df.head()"
   ]
  },
  {
   "cell_type": "code",
   "execution_count": 11,
   "metadata": {},
   "outputs": [],
   "source": [
    "df.to_csv(\"../data/jumpstart_cards.csv\", index=False)"
   ]
  },
  {
   "cell_type": "code",
   "execution_count": null,
   "metadata": {},
   "outputs": [],
   "source": []
  }
 ],
 "metadata": {
  "kernelspec": {
   "display_name": "venv",
   "language": "python",
   "name": "python3"
  },
  "language_info": {
   "codemirror_mode": {
    "name": "ipython",
    "version": 3
   },
   "file_extension": ".py",
   "mimetype": "text/x-python",
   "name": "python",
   "nbconvert_exporter": "python",
   "pygments_lexer": "ipython3",
   "version": "3.10.6"
  },
  "orig_nbformat": 4
 },
 "nbformat": 4,
 "nbformat_minor": 2
}
