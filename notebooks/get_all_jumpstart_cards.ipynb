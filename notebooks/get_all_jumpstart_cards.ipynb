{
 "cells": [
  {
   "cell_type": "code",
   "execution_count": 1,
   "metadata": {},
   "outputs": [],
   "source": [
    "import json\n",
    "import pandas as pd"
   ]
  },
  {
   "cell_type": "code",
   "execution_count": 2,
   "metadata": {},
   "outputs": [],
   "source": [
    "pd.set_option(\"display.max_columns\", None)"
   ]
  },
  {
   "cell_type": "code",
   "execution_count": 3,
   "metadata": {},
   "outputs": [],
   "source": [
    "with open(\"../data/scryfall/default-cards-20230502210911.json\", \"r\") as f:\n",
    "    scryfall_default_cards_json_list = json.load(f)"
   ]
  },
  {
   "cell_type": "code",
   "execution_count": 4,
   "metadata": {},
   "outputs": [
    {
     "data": {
      "text/plain": [
       "82769"
      ]
     },
     "execution_count": 4,
     "metadata": {},
     "output_type": "execute_result"
    }
   ],
   "source": [
    "len(scryfall_default_cards_json_list)"
   ]
  },
  {
   "cell_type": "code",
   "execution_count": 5,
   "metadata": {},
   "outputs": [],
   "source": [
    "df = pd.DataFrame(scryfall_default_cards_json_list)"
   ]
  },
  {
   "cell_type": "code",
   "execution_count": 6,
   "metadata": {},
   "outputs": [],
   "source": [
    "columns_to_select = [\n",
    "    \"id\",\n",
    "    \"name\",\n",
    "    \"set\",\n",
    "    \"set_name\",\n",
    "    \"rarity\",\n",
    "    \"type_line\",\n",
    "    \"colors\",\n",
    "    \"color_identity\",\n",
    "    \"mana_cost\",\n",
    "    \"power\",\n",
    "    \"toughness\",\n",
    "    \"oracle_text\",\n",
    "    \"keywords\",\n",
    "]"
   ]
  },
  {
   "cell_type": "code",
   "execution_count": 7,
   "metadata": {},
   "outputs": [],
   "source": [
    "df = df[columns_to_select]"
   ]
  },
  {
   "cell_type": "code",
   "execution_count": 8,
   "metadata": {},
   "outputs": [],
   "source": [
    "df = df[df[\"set_name\"].isin([\"Jumpstart\", \"Jumpstart 2022\"])].reset_index(drop=True)"
   ]
  },
  {
   "cell_type": "code",
   "execution_count": 9,
   "metadata": {},
   "outputs": [
    {
     "name": "stdout",
     "output_type": "stream",
     "text": [
      "<class 'pandas.core.frame.DataFrame'>\n",
      "RangeIndex: 1332 entries, 0 to 1331\n",
      "Data columns (total 13 columns):\n",
      " #   Column          Non-Null Count  Dtype \n",
      "---  ------          --------------  ----- \n",
      " 0   id              1332 non-null   object\n",
      " 1   name            1332 non-null   object\n",
      " 2   set             1332 non-null   object\n",
      " 3   set_name        1332 non-null   object\n",
      " 4   rarity          1332 non-null   object\n",
      " 5   type_line       1332 non-null   object\n",
      " 6   colors          1332 non-null   object\n",
      " 7   color_identity  1332 non-null   object\n",
      " 8   mana_cost       1332 non-null   object\n",
      " 9   power           800 non-null    object\n",
      " 10  toughness       800 non-null    object\n",
      " 11  oracle_text     1332 non-null   object\n",
      " 12  keywords        1332 non-null   object\n",
      "dtypes: object(13)\n",
      "memory usage: 135.4+ KB\n"
     ]
    }
   ],
   "source": [
    "df.info()"
   ]
  },
  {
   "cell_type": "code",
   "execution_count": 10,
   "metadata": {},
   "outputs": [
    {
     "data": {
      "text/html": [
       "<div>\n",
       "<style scoped>\n",
       "    .dataframe tbody tr th:only-of-type {\n",
       "        vertical-align: middle;\n",
       "    }\n",
       "\n",
       "    .dataframe tbody tr th {\n",
       "        vertical-align: top;\n",
       "    }\n",
       "\n",
       "    .dataframe thead th {\n",
       "        text-align: right;\n",
       "    }\n",
       "</style>\n",
       "<table border=\"1\" class=\"dataframe\">\n",
       "  <thead>\n",
       "    <tr style=\"text-align: right;\">\n",
       "      <th></th>\n",
       "      <th>id</th>\n",
       "      <th>name</th>\n",
       "      <th>set</th>\n",
       "      <th>set_name</th>\n",
       "      <th>rarity</th>\n",
       "      <th>type_line</th>\n",
       "      <th>colors</th>\n",
       "      <th>color_identity</th>\n",
       "      <th>mana_cost</th>\n",
       "      <th>power</th>\n",
       "      <th>toughness</th>\n",
       "      <th>oracle_text</th>\n",
       "      <th>keywords</th>\n",
       "    </tr>\n",
       "  </thead>\n",
       "  <tbody>\n",
       "    <tr>\n",
       "      <th>0</th>\n",
       "      <td>00030770-5e99-4943-819d-8d807c24cc14</td>\n",
       "      <td>Swamp</td>\n",
       "      <td>jmp</td>\n",
       "      <td>Jumpstart</td>\n",
       "      <td>common</td>\n",
       "      <td>Basic Land — Swamp</td>\n",
       "      <td>[]</td>\n",
       "      <td>[B]</td>\n",
       "      <td></td>\n",
       "      <td>NaN</td>\n",
       "      <td>NaN</td>\n",
       "      <td>({T}: Add {B}.)</td>\n",
       "      <td>[]</td>\n",
       "    </tr>\n",
       "    <tr>\n",
       "      <th>1</th>\n",
       "      <td>00502ed1-4364-41cd-b717-1f9e38d1afe6</td>\n",
       "      <td>Howlgeist</td>\n",
       "      <td>j22</td>\n",
       "      <td>Jumpstart 2022</td>\n",
       "      <td>uncommon</td>\n",
       "      <td>Creature — Spirit Wolf</td>\n",
       "      <td>[G]</td>\n",
       "      <td>[G]</td>\n",
       "      <td>{5}{G}</td>\n",
       "      <td>4</td>\n",
       "      <td>2</td>\n",
       "      <td>Creatures with power less than Howlgeist's pow...</td>\n",
       "      <td>[Undying]</td>\n",
       "    </tr>\n",
       "    <tr>\n",
       "      <th>2</th>\n",
       "      <td>011bc5b7-c4d5-4c4c-af0d-aa0853d63f3a</td>\n",
       "      <td>Buried Ruin</td>\n",
       "      <td>jmp</td>\n",
       "      <td>Jumpstart</td>\n",
       "      <td>uncommon</td>\n",
       "      <td>Land</td>\n",
       "      <td>[]</td>\n",
       "      <td>[]</td>\n",
       "      <td></td>\n",
       "      <td>NaN</td>\n",
       "      <td>NaN</td>\n",
       "      <td>{T}: Add {C}.\\n{2}, {T}, Sacrifice Buried Ruin...</td>\n",
       "      <td>[]</td>\n",
       "    </tr>\n",
       "    <tr>\n",
       "      <th>3</th>\n",
       "      <td>012f1dab-24c5-4bcd-bcc0-d282f28c8689</td>\n",
       "      <td>Overcome</td>\n",
       "      <td>j22</td>\n",
       "      <td>Jumpstart 2022</td>\n",
       "      <td>uncommon</td>\n",
       "      <td>Sorcery</td>\n",
       "      <td>[G]</td>\n",
       "      <td>[G]</td>\n",
       "      <td>{3}{G}{G}</td>\n",
       "      <td>NaN</td>\n",
       "      <td>NaN</td>\n",
       "      <td>Creatures you control get +2/+2 and gain tramp...</td>\n",
       "      <td>[]</td>\n",
       "    </tr>\n",
       "    <tr>\n",
       "      <th>4</th>\n",
       "      <td>01398f5f-f38e-45a7-b755-e65c8fa779f8</td>\n",
       "      <td>Crushing Canopy</td>\n",
       "      <td>jmp</td>\n",
       "      <td>Jumpstart</td>\n",
       "      <td>common</td>\n",
       "      <td>Instant</td>\n",
       "      <td>[G]</td>\n",
       "      <td>[G]</td>\n",
       "      <td>{2}{G}</td>\n",
       "      <td>NaN</td>\n",
       "      <td>NaN</td>\n",
       "      <td>Choose one —\\n• Destroy target creature with f...</td>\n",
       "      <td>[]</td>\n",
       "    </tr>\n",
       "  </tbody>\n",
       "</table>\n",
       "</div>"
      ],
      "text/plain": [
       "                                     id             name  set        set_name   \n",
       "0  00030770-5e99-4943-819d-8d807c24cc14            Swamp  jmp       Jumpstart  \\\n",
       "1  00502ed1-4364-41cd-b717-1f9e38d1afe6        Howlgeist  j22  Jumpstart 2022   \n",
       "2  011bc5b7-c4d5-4c4c-af0d-aa0853d63f3a      Buried Ruin  jmp       Jumpstart   \n",
       "3  012f1dab-24c5-4bcd-bcc0-d282f28c8689         Overcome  j22  Jumpstart 2022   \n",
       "4  01398f5f-f38e-45a7-b755-e65c8fa779f8  Crushing Canopy  jmp       Jumpstart   \n",
       "\n",
       "     rarity               type_line colors color_identity  mana_cost power   \n",
       "0    common      Basic Land — Swamp     []            [B]              NaN  \\\n",
       "1  uncommon  Creature — Spirit Wolf    [G]            [G]     {5}{G}     4   \n",
       "2  uncommon                    Land     []             []              NaN   \n",
       "3  uncommon                 Sorcery    [G]            [G]  {3}{G}{G}   NaN   \n",
       "4    common                 Instant    [G]            [G]     {2}{G}   NaN   \n",
       "\n",
       "  toughness                                        oracle_text   keywords  \n",
       "0       NaN                                    ({T}: Add {B}.)         []  \n",
       "1         2  Creatures with power less than Howlgeist's pow...  [Undying]  \n",
       "2       NaN  {T}: Add {C}.\\n{2}, {T}, Sacrifice Buried Ruin...         []  \n",
       "3       NaN  Creatures you control get +2/+2 and gain tramp...         []  \n",
       "4       NaN  Choose one —\\n• Destroy target creature with f...         []  "
      ]
     },
     "execution_count": 10,
     "metadata": {},
     "output_type": "execute_result"
    }
   ],
   "source": [
    "df.head()"
   ]
  },
  {
   "cell_type": "code",
   "execution_count": 11,
   "metadata": {},
   "outputs": [],
   "source": [
    "df.to_csv(\"../data/jumpstart_cards.csv\", index=False)"
   ]
  },
  {
   "cell_type": "code",
   "execution_count": null,
   "metadata": {},
   "outputs": [],
   "source": []
  }
 ],
 "metadata": {
  "kernelspec": {
   "display_name": "venv",
   "language": "python",
   "name": "python3"
  },
  "language_info": {
   "codemirror_mode": {
    "name": "ipython",
    "version": 3
   },
   "file_extension": ".py",
   "mimetype": "text/x-python",
   "name": "python",
   "nbconvert_exporter": "python",
   "pygments_lexer": "ipython3",
   "version": "3.10.6"
  },
  "orig_nbformat": 4
 },
 "nbformat": 4,
 "nbformat_minor": 2
}
