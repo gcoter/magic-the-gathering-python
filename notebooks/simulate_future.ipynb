{
 "cells": [
  {
   "cell_type": "code",
   "execution_count": 1,
   "metadata": {},
   "outputs": [],
   "source": [
    "import sys\n",
    "import random\n",
    "import logging\n",
    "import pandas as pd\n",
    "from copy import deepcopy\n",
    "from typing import List, OrderedDict\n",
    "\n",
    "sys.path.append(\"..\")\n",
    "\n",
    "from magic_the_gathering.game_modes.default import DefaultGameMode\n",
    "from magic_the_gathering.players.random import RandomPlayer\n",
    "from magic_the_gathering.cards.deck_creator import RandomVanillaDeckCreator\n",
    "from magic_the_gathering.game_state import GameState, ZonePosition\n",
    "from magic_the_gathering.actions.base import Action\n",
    "from magic_the_gathering.actions.none import NoneAction\n",
    "from magic_the_gathering.actions.draw import DrawAction\n",
    "from magic_the_gathering.game_engine import GameEngine\n",
    "from magic_the_gathering.exceptions import GameOverException\n",
    "from magic_the_gathering.turn import Turn\n",
    "from magic_the_gathering.phases.players_get_priority import PhaseWherePlayersGetPriority"
   ]
  },
  {
   "cell_type": "code",
   "execution_count": 2,
   "metadata": {},
   "outputs": [],
   "source": [
    "game_mode = DefaultGameMode()"
   ]
  },
  {
   "cell_type": "code",
   "execution_count": 3,
   "metadata": {},
   "outputs": [],
   "source": [
    "game_logs_dataset = None"
   ]
  },
  {
   "cell_type": "code",
   "execution_count": 4,
   "metadata": {},
   "outputs": [],
   "source": [
    "players = [\n",
    "    RandomPlayer(\n",
    "        index=0,\n",
    "        life_points=game_mode.initial_life_points,\n",
    "        game_logs_dataset=game_logs_dataset\n",
    "    ),\n",
    "    RandomPlayer(\n",
    "        index=1,\n",
    "        life_points=game_mode.initial_life_points,\n",
    "        game_logs_dataset=game_logs_dataset\n",
    "    )\n",
    "]"
   ]
  },
  {
   "cell_type": "code",
   "execution_count": 5,
   "metadata": {},
   "outputs": [],
   "source": [
    "def create_decks(\n",
    "    n_players: int = 2,\n",
    ") -> List[List[object]]:  # FIXME: I had to remove Card because it caused a circular import\n",
    "    legal_lands_df = pd.read_csv(\"../data/basic_land_cards.csv\")\n",
    "    legal_creatures_df = pd.read_csv(\"../data/vanilla_creature_cards.csv\")\n",
    "    deck_creator = RandomVanillaDeckCreator(\n",
    "        legal_lands_df,\n",
    "        legal_creatures_df,\n",
    "        deck_size=60,\n",
    "        lands_proportion=0.4,\n",
    "    )\n",
    "    decks = deck_creator.create_decks(n_players=n_players)\n",
    "    for i, deck in enumerate(decks):\n",
    "        items = list(deck.items())\n",
    "        random.shuffle(items)\n",
    "        decks[i] = OrderedDict(items)\n",
    "    # TODO: Need to add Mulligan phase\n",
    "    return decks"
   ]
  },
  {
   "cell_type": "code",
   "execution_count": 6,
   "metadata": {},
   "outputs": [],
   "source": [
    "decks = create_decks(n_players=len(players))"
   ]
  },
  {
   "cell_type": "code",
   "execution_count": 7,
   "metadata": {},
   "outputs": [],
   "source": [
    "def create_hands(game_state: GameState):\n",
    "    for player_index, player in enumerate(game_state.players):\n",
    "        for _ in range(game_state.game_mode.initial_hand_size):\n",
    "            game_state = DrawAction(player_index=player_index).execute(game_state=game_state)\n",
    "    return game_state"
   ]
  },
  {
   "cell_type": "code",
   "execution_count": 8,
   "metadata": {},
   "outputs": [],
   "source": [
    "game_state = GameState(\n",
    "    game_mode=game_mode,\n",
    "    players=players,\n",
    ")\n",
    "game_state.set_libraries(libraries=decks)\n",
    "game_state = create_hands(game_state=game_state)"
   ]
  },
  {
   "cell_type": "code",
   "execution_count": 9,
   "metadata": {},
   "outputs": [],
   "source": [
    "Action.HISTORY = []"
   ]
  },
  {
   "cell_type": "code",
   "execution_count": 10,
   "metadata": {},
   "outputs": [],
   "source": [
    "logging.basicConfig(level=logging.DEBUG)"
   ]
  },
  {
   "cell_type": "code",
   "execution_count": 17,
   "metadata": {},
   "outputs": [],
   "source": [
    "class ActionTree:\n",
    "    def __init__(\n",
    "        self,\n",
    "        game_state: GameState,\n",
    "        max_depth: int = None,\n",
    "        depth: int = 0,\n",
    "        chosen_action: Action = None,\n",
    "        parent=None,\n",
    "        children=None,\n",
    "        winner_player_index: int = None\n",
    "    ):\n",
    "        self.game_state = game_state\n",
    "        self.chosen_action = chosen_action\n",
    "        self.max_depth = max_depth\n",
    "        self.depth = depth\n",
    "        self.parent = parent\n",
    "        self.children = children\n",
    "        if self.children is None:\n",
    "            self.children = []\n",
    "        self.winner_player_index = winner_player_index\n",
    "\n",
    "    def add_child(self, action_tree):\n",
    "        self.children.append(action_tree)\n",
    "        action_tree.parent = self\n",
    "\n",
    "    def build(self, phase_index: int, game_state: GameState):\n",
    "        if self.max_depth is not None and self.depth == self.max_depth:\n",
    "            return\n",
    "        phase_index, game_state = self.__find_next_phase_index(\n",
    "            phase_index=phase_index,\n",
    "            chosen_action=self.chosen_action,\n",
    "            game_state=game_state\n",
    "        )\n",
    "        current_phase = Turn.PHASES[phase_index]\n",
    "        assert isinstance(current_phase, PhaseWherePlayersGetPriority)\n",
    "        possible_actions = current_phase.list_possible_actions(game_state=game_state)\n",
    "        for action in possible_actions:\n",
    "            winner_player_index = None\n",
    "            game_state_clone = deepcopy(game_state)\n",
    "            try:\n",
    "                game_state_clone = action.execute(game_state_clone)\n",
    "            except GameOverException as e:\n",
    "                winner_player_index = e.winner_player_index\n",
    "            new_action_tree = ActionTree(\n",
    "                game_state=game_state_clone,\n",
    "                chosen_action=action,\n",
    "                depth=self.depth + 1,\n",
    "                max_depth=self.max_depth,\n",
    "                winner_player_index=winner_player_index\n",
    "            )\n",
    "            self.add_child(new_action_tree)\n",
    "            new_action_tree.build(\n",
    "                phase_index=phase_index,\n",
    "                game_state=game_state_clone\n",
    "            )\n",
    "\n",
    "    def __find_next_phase_index(self, phase_index: int, chosen_action: Action, game_state: GameState):\n",
    "        if chosen_action is not None and not isinstance(chosen_action, NoneAction):\n",
    "            return phase_index, game_state\n",
    "        while True:\n",
    "            phase_index = (phase_index + 1) % len(Turn.PHASES)\n",
    "            phase = Turn.PHASES[phase_index]\n",
    "            if isinstance(phase, PhaseWherePlayersGetPriority):\n",
    "                break\n",
    "            game_state = phase.run(game_state)\n",
    "        return phase_index, game_state\n",
    "\n",
    "    def draw(self):\n",
    "        indent = \"    \" * self.depth\n",
    "        print(f\"{indent}{self.chosen_action.__class__.__name__} (current_player_index={self.game_state.current_player_index} | winner_player_index={self.winner_player_index})\")\n",
    "        for child in self.children:\n",
    "            child.draw()"
   ]
  },
  {
   "cell_type": "code",
   "execution_count": 21,
   "metadata": {},
   "outputs": [],
   "source": [
    "action_tree = ActionTree(\n",
    "    game_state=game_state,\n",
    "    max_depth=5\n",
    ")"
   ]
  },
  {
   "cell_type": "code",
   "execution_count": 25,
   "metadata": {},
   "outputs": [
    {
     "name": "stderr",
     "output_type": "stream",
     "text": [
      "INFO:CombatBeginningPhase:===== Combat: Beginning Phase =====\n",
      "DEBUG:NoneAction:Executing action: NoneAction(source_player_index=0, target_player_index=None, source_card_uuids=None, target_card_uuids=None, source_zone=None, target_zone=None)\n"
     ]
    }
   ],
   "source": [
    "action_tree.build(phase_index=4, game_state=game_state)"
   ]
  },
  {
   "cell_type": "code",
   "execution_count": 26,
   "metadata": {},
   "outputs": [
    {
     "name": "stdout",
     "output_type": "stream",
     "text": [
      "NoneType (current_player_index=0 | winner_player_index=None)\n",
      "    NoneAction (current_player_index=0 | winner_player_index=None)\n",
      "        NoneAction (current_player_index=0 | winner_player_index=None)\n",
      "    PlayLandAction (current_player_index=0 | winner_player_index=None)\n",
      "        NoneAction (current_player_index=0 | winner_player_index=None)\n",
      "            NoneAction (current_player_index=0 | winner_player_index=None)\n",
      "        TapAction (current_player_index=0 | winner_player_index=None)\n",
      "            NoneAction (current_player_index=0 | winner_player_index=None)\n",
      "                NoneAction (current_player_index=0 | winner_player_index=None)\n",
      "    PlayLandAction (current_player_index=0 | winner_player_index=None)\n",
      "        NoneAction (current_player_index=0 | winner_player_index=None)\n",
      "            NoneAction (current_player_index=0 | winner_player_index=None)\n",
      "        TapAction (current_player_index=0 | winner_player_index=None)\n",
      "            NoneAction (current_player_index=0 | winner_player_index=None)\n",
      "                NoneAction (current_player_index=0 | winner_player_index=None)\n",
      "    PlayLandAction (current_player_index=0 | winner_player_index=None)\n",
      "        NoneAction (current_player_index=0 | winner_player_index=None)\n",
      "            NoneAction (current_player_index=0 | winner_player_index=None)\n",
      "        TapAction (current_player_index=0 | winner_player_index=None)\n",
      "            NoneAction (current_player_index=0 | winner_player_index=None)\n",
      "                NoneAction (current_player_index=0 | winner_player_index=None)\n",
      "    PlayLandAction (current_player_index=0 | winner_player_index=None)\n",
      "        NoneAction (current_player_index=0 | winner_player_index=None)\n",
      "            NoneAction (current_player_index=0 | winner_player_index=None)\n",
      "        TapAction (current_player_index=0 | winner_player_index=None)\n",
      "            NoneAction (current_player_index=0 | winner_player_index=None)\n",
      "                NoneAction (current_player_index=0 | winner_player_index=None)\n",
      "    PlayLandAction (current_player_index=0 | winner_player_index=None)\n",
      "        NoneAction (current_player_index=0 | winner_player_index=None)\n",
      "            NoneAction (current_player_index=0 | winner_player_index=None)\n",
      "        TapAction (current_player_index=0 | winner_player_index=None)\n",
      "            NoneAction (current_player_index=0 | winner_player_index=None)\n",
      "                NoneAction (current_player_index=0 | winner_player_index=None)\n",
      "    NoneAction (current_player_index=0 | winner_player_index=None)\n",
      "        NoneAction (current_player_index=0 | winner_player_index=None)\n",
      "    PlayLandAction (current_player_index=0 | winner_player_index=None)\n",
      "        NoneAction (current_player_index=0 | winner_player_index=None)\n",
      "            NoneAction (current_player_index=0 | winner_player_index=None)\n",
      "        TapAction (current_player_index=0 | winner_player_index=None)\n",
      "            NoneAction (current_player_index=0 | winner_player_index=None)\n",
      "                NoneAction (current_player_index=0 | winner_player_index=None)\n",
      "    PlayLandAction (current_player_index=0 | winner_player_index=None)\n",
      "        NoneAction (current_player_index=0 | winner_player_index=None)\n",
      "            NoneAction (current_player_index=0 | winner_player_index=None)\n",
      "        TapAction (current_player_index=0 | winner_player_index=None)\n",
      "            NoneAction (current_player_index=0 | winner_player_index=None)\n",
      "                NoneAction (current_player_index=0 | winner_player_index=None)\n",
      "    PlayLandAction (current_player_index=0 | winner_player_index=None)\n",
      "        NoneAction (current_player_index=0 | winner_player_index=None)\n",
      "            NoneAction (current_player_index=0 | winner_player_index=None)\n",
      "        TapAction (current_player_index=0 | winner_player_index=None)\n",
      "            NoneAction (current_player_index=0 | winner_player_index=None)\n",
      "                NoneAction (current_player_index=0 | winner_player_index=None)\n",
      "    PlayLandAction (current_player_index=0 | winner_player_index=None)\n",
      "        NoneAction (current_player_index=0 | winner_player_index=None)\n",
      "            NoneAction (current_player_index=0 | winner_player_index=None)\n",
      "        TapAction (current_player_index=0 | winner_player_index=None)\n",
      "            NoneAction (current_player_index=0 | winner_player_index=None)\n",
      "                NoneAction (current_player_index=0 | winner_player_index=None)\n",
      "    PlayLandAction (current_player_index=0 | winner_player_index=None)\n",
      "        NoneAction (current_player_index=0 | winner_player_index=None)\n",
      "            NoneAction (current_player_index=0 | winner_player_index=None)\n",
      "        TapAction (current_player_index=0 | winner_player_index=None)\n",
      "            NoneAction (current_player_index=0 | winner_player_index=None)\n",
      "                NoneAction (current_player_index=0 | winner_player_index=None)\n",
      "    NoneAction (current_player_index=0 | winner_player_index=None)\n"
     ]
    }
   ],
   "source": [
    "action_tree.draw()"
   ]
  },
  {
   "cell_type": "code",
   "execution_count": null,
   "metadata": {},
   "outputs": [],
   "source": []
  }
 ],
 "metadata": {
  "kernelspec": {
   "display_name": "venv",
   "language": "python",
   "name": "python3"
  },
  "language_info": {
   "codemirror_mode": {
    "name": "ipython",
    "version": 3
   },
   "file_extension": ".py",
   "mimetype": "text/x-python",
   "name": "python",
   "nbconvert_exporter": "python",
   "pygments_lexer": "ipython3",
   "version": "3.10.12"
  },
  "orig_nbformat": 4
 },
 "nbformat": 4,
 "nbformat_minor": 2
}
