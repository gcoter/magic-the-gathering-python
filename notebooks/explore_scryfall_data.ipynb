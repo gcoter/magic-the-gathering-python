{
 "cells": [
  {
   "cell_type": "code",
   "execution_count": 36,
   "metadata": {},
   "outputs": [],
   "source": [
    "import json\n",
    "import pandas as pd"
   ]
  },
  {
   "cell_type": "code",
   "execution_count": 37,
   "metadata": {},
   "outputs": [],
   "source": [
    "pd.set_option(\"display.max_columns\", None)"
   ]
  },
  {
   "cell_type": "code",
   "execution_count": 38,
   "metadata": {},
   "outputs": [],
   "source": [
    "with open(\"../data/scryfall/default-cards-20230502210911.json\", \"r\") as f:\n",
    "    scryfall_default_cards_json_list = json.load(f)"
   ]
  },
  {
   "cell_type": "code",
   "execution_count": 39,
   "metadata": {},
   "outputs": [
    {
     "data": {
      "text/plain": [
       "82769"
      ]
     },
     "execution_count": 39,
     "metadata": {},
     "output_type": "execute_result"
    }
   ],
   "source": [
    "len(scryfall_default_cards_json_list)"
   ]
  },
  {
   "cell_type": "code",
   "execution_count": 40,
   "metadata": {},
   "outputs": [],
   "source": [
    "df = pd.DataFrame(scryfall_default_cards_json_list)"
   ]
  },
  {
   "cell_type": "code",
   "execution_count": 41,
   "metadata": {},
   "outputs": [],
   "source": [
    "columns_to_select = [\n",
    "    \"id\",\n",
    "    \"name\",\n",
    "    \"set\",\n",
    "    \"set_name\",\n",
    "    \"rarity\",\n",
    "    \"type_line\",\n",
    "    \"colors\",\n",
    "    \"color_identity\",\n",
    "    \"mana_cost\",\n",
    "    \"power\",\n",
    "    \"toughness\",\n",
    "    \"oracle_text\",\n",
    "    \"keywords\",\n",
    "]"
   ]
  },
  {
   "cell_type": "code",
   "execution_count": 42,
   "metadata": {},
   "outputs": [],
   "source": [
    "df = df[columns_to_select]"
   ]
  },
  {
   "cell_type": "code",
   "execution_count": 44,
   "metadata": {},
   "outputs": [],
   "source": [
    "df = df[df[\"set\"] == \"j22\"].reset_index(drop=True)"
   ]
  },
  {
   "cell_type": "code",
   "execution_count": 46,
   "metadata": {},
   "outputs": [
    {
     "name": "stdout",
     "output_type": "stream",
     "text": [
      "<class 'pandas.core.frame.DataFrame'>\n",
      "RangeIndex: 835 entries, 0 to 834\n",
      "Data columns (total 13 columns):\n",
      " #   Column          Non-Null Count  Dtype \n",
      "---  ------          --------------  ----- \n",
      " 0   id              835 non-null    object\n",
      " 1   name            835 non-null    object\n",
      " 2   set             835 non-null    object\n",
      " 3   set_name        835 non-null    object\n",
      " 4   rarity          835 non-null    object\n",
      " 5   type_line       835 non-null    object\n",
      " 6   colors          835 non-null    object\n",
      " 7   color_identity  835 non-null    object\n",
      " 8   mana_cost       835 non-null    object\n",
      " 9   power           514 non-null    object\n",
      " 10  toughness       514 non-null    object\n",
      " 11  oracle_text     835 non-null    object\n",
      " 12  keywords        835 non-null    object\n",
      "dtypes: object(13)\n",
      "memory usage: 84.9+ KB\n"
     ]
    }
   ],
   "source": [
    "df.info()"
   ]
  },
  {
   "cell_type": "code",
   "execution_count": 47,
   "metadata": {},
   "outputs": [
    {
     "data": {
      "text/html": [
       "<div>\n",
       "<style scoped>\n",
       "    .dataframe tbody tr th:only-of-type {\n",
       "        vertical-align: middle;\n",
       "    }\n",
       "\n",
       "    .dataframe tbody tr th {\n",
       "        vertical-align: top;\n",
       "    }\n",
       "\n",
       "    .dataframe thead th {\n",
       "        text-align: right;\n",
       "    }\n",
       "</style>\n",
       "<table border=\"1\" class=\"dataframe\">\n",
       "  <thead>\n",
       "    <tr style=\"text-align: right;\">\n",
       "      <th></th>\n",
       "      <th>id</th>\n",
       "      <th>name</th>\n",
       "      <th>set</th>\n",
       "      <th>set_name</th>\n",
       "      <th>rarity</th>\n",
       "      <th>type_line</th>\n",
       "      <th>colors</th>\n",
       "      <th>color_identity</th>\n",
       "      <th>mana_cost</th>\n",
       "      <th>power</th>\n",
       "      <th>toughness</th>\n",
       "      <th>oracle_text</th>\n",
       "      <th>keywords</th>\n",
       "    </tr>\n",
       "  </thead>\n",
       "  <tbody>\n",
       "    <tr>\n",
       "      <th>0</th>\n",
       "      <td>00502ed1-4364-41cd-b717-1f9e38d1afe6</td>\n",
       "      <td>Howlgeist</td>\n",
       "      <td>j22</td>\n",
       "      <td>Jumpstart 2022</td>\n",
       "      <td>uncommon</td>\n",
       "      <td>Creature — Spirit Wolf</td>\n",
       "      <td>[G]</td>\n",
       "      <td>[G]</td>\n",
       "      <td>{5}{G}</td>\n",
       "      <td>4</td>\n",
       "      <td>2</td>\n",
       "      <td>Creatures with power less than Howlgeist's pow...</td>\n",
       "      <td>[Undying]</td>\n",
       "    </tr>\n",
       "    <tr>\n",
       "      <th>1</th>\n",
       "      <td>012f1dab-24c5-4bcd-bcc0-d282f28c8689</td>\n",
       "      <td>Overcome</td>\n",
       "      <td>j22</td>\n",
       "      <td>Jumpstart 2022</td>\n",
       "      <td>uncommon</td>\n",
       "      <td>Sorcery</td>\n",
       "      <td>[G]</td>\n",
       "      <td>[G]</td>\n",
       "      <td>{3}{G}{G}</td>\n",
       "      <td>NaN</td>\n",
       "      <td>NaN</td>\n",
       "      <td>Creatures you control get +2/+2 and gain tramp...</td>\n",
       "      <td>[]</td>\n",
       "    </tr>\n",
       "    <tr>\n",
       "      <th>2</th>\n",
       "      <td>0208c551-a4de-43c7-bd4c-12d24ae179c1</td>\n",
       "      <td>Vendilion Clique</td>\n",
       "      <td>j22</td>\n",
       "      <td>Jumpstart 2022</td>\n",
       "      <td>mythic</td>\n",
       "      <td>Legendary Creature — Faerie Wizard</td>\n",
       "      <td>[U]</td>\n",
       "      <td>[U]</td>\n",
       "      <td>{1}{U}{U}</td>\n",
       "      <td>3</td>\n",
       "      <td>1</td>\n",
       "      <td>Flash\\nFlying\\nWhen Vendilion Clique enters th...</td>\n",
       "      <td>[Flying, Flash]</td>\n",
       "    </tr>\n",
       "    <tr>\n",
       "      <th>3</th>\n",
       "      <td>024b3bfd-3d2b-4f45-b015-2d94fe2f2bb3</td>\n",
       "      <td>Seize the Storm</td>\n",
       "      <td>j22</td>\n",
       "      <td>Jumpstart 2022</td>\n",
       "      <td>uncommon</td>\n",
       "      <td>Sorcery</td>\n",
       "      <td>[R]</td>\n",
       "      <td>[R]</td>\n",
       "      <td>{4}{R}</td>\n",
       "      <td>NaN</td>\n",
       "      <td>NaN</td>\n",
       "      <td>Create a red Elemental creature token with tra...</td>\n",
       "      <td>[Flashback]</td>\n",
       "    </tr>\n",
       "    <tr>\n",
       "      <th>4</th>\n",
       "      <td>0265b7d1-5646-4974-ae6a-34b1fa2281b4</td>\n",
       "      <td>Ordeal of Purphoros</td>\n",
       "      <td>j22</td>\n",
       "      <td>Jumpstart 2022</td>\n",
       "      <td>uncommon</td>\n",
       "      <td>Enchantment — Aura</td>\n",
       "      <td>[R]</td>\n",
       "      <td>[R]</td>\n",
       "      <td>{1}{R}</td>\n",
       "      <td>NaN</td>\n",
       "      <td>NaN</td>\n",
       "      <td>Enchant creature\\nWhenever enchanted creature ...</td>\n",
       "      <td>[Enchant]</td>\n",
       "    </tr>\n",
       "  </tbody>\n",
       "</table>\n",
       "</div>"
      ],
      "text/plain": [
       "                                     id                 name  set   \n",
       "0  00502ed1-4364-41cd-b717-1f9e38d1afe6            Howlgeist  j22  \\\n",
       "1  012f1dab-24c5-4bcd-bcc0-d282f28c8689             Overcome  j22   \n",
       "2  0208c551-a4de-43c7-bd4c-12d24ae179c1     Vendilion Clique  j22   \n",
       "3  024b3bfd-3d2b-4f45-b015-2d94fe2f2bb3      Seize the Storm  j22   \n",
       "4  0265b7d1-5646-4974-ae6a-34b1fa2281b4  Ordeal of Purphoros  j22   \n",
       "\n",
       "         set_name    rarity                           type_line colors   \n",
       "0  Jumpstart 2022  uncommon              Creature — Spirit Wolf    [G]  \\\n",
       "1  Jumpstart 2022  uncommon                             Sorcery    [G]   \n",
       "2  Jumpstart 2022    mythic  Legendary Creature — Faerie Wizard    [U]   \n",
       "3  Jumpstart 2022  uncommon                             Sorcery    [R]   \n",
       "4  Jumpstart 2022  uncommon                  Enchantment — Aura    [R]   \n",
       "\n",
       "  color_identity  mana_cost power toughness   \n",
       "0            [G]     {5}{G}     4         2  \\\n",
       "1            [G]  {3}{G}{G}   NaN       NaN   \n",
       "2            [U]  {1}{U}{U}     3         1   \n",
       "3            [R]     {4}{R}   NaN       NaN   \n",
       "4            [R]     {1}{R}   NaN       NaN   \n",
       "\n",
       "                                         oracle_text         keywords  \n",
       "0  Creatures with power less than Howlgeist's pow...        [Undying]  \n",
       "1  Creatures you control get +2/+2 and gain tramp...               []  \n",
       "2  Flash\\nFlying\\nWhen Vendilion Clique enters th...  [Flying, Flash]  \n",
       "3  Create a red Elemental creature token with tra...      [Flashback]  \n",
       "4  Enchant creature\\nWhenever enchanted creature ...        [Enchant]  "
      ]
     },
     "execution_count": 47,
     "metadata": {},
     "output_type": "execute_result"
    }
   ],
   "source": [
    "df.head()"
   ]
  },
  {
   "cell_type": "code",
   "execution_count": 67,
   "metadata": {},
   "outputs": [],
   "source": [
    "df.to_csv(\"../data/j22_cards.csv\", index=False)"
   ]
  },
  {
   "cell_type": "code",
   "execution_count": null,
   "metadata": {},
   "outputs": [],
   "source": []
  }
 ],
 "metadata": {
  "kernelspec": {
   "display_name": "venv",
   "language": "python",
   "name": "python3"
  },
  "language_info": {
   "codemirror_mode": {
    "name": "ipython",
    "version": 3
   },
   "file_extension": ".py",
   "mimetype": "text/x-python",
   "name": "python",
   "nbconvert_exporter": "python",
   "pygments_lexer": "ipython3",
   "version": "3.10.6"
  },
  "orig_nbformat": 4
 },
 "nbformat": 4,
 "nbformat_minor": 2
}
